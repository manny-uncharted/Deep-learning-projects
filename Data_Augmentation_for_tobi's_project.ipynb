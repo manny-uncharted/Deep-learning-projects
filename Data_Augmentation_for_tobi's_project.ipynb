{
  "nbformat": 4,
  "nbformat_minor": 0,
  "metadata": {
    "colab": {
      "private_outputs": true,
      "provenance": [],
      "mount_file_id": "1A0y4BJNKQF1Ori8pHm15m9W_AqlkX1DF",
      "authorship_tag": "ABX9TyMBw1TiDeJJiYVoK3xSV9m8",
      "include_colab_link": true
    },
    "kernelspec": {
      "name": "python3",
      "display_name": "Python 3"
    },
    "language_info": {
      "name": "python"
    }
  },
  "cells": [
    {
      "cell_type": "markdown",
      "metadata": {
        "id": "view-in-github",
        "colab_type": "text"
      },
      "source": [
        "<a href=\"https://colab.research.google.com/github/manny-uncharted/Deep-learning-projects/blob/main/Data_Augmentation_for_tobi's_project.ipynb\" target=\"_parent\"><img src=\"https://colab.research.google.com/assets/colab-badge.svg\" alt=\"Open In Colab\"/></a>"
      ]
    },
    {
      "cell_type": "code",
      "execution_count": null,
      "metadata": {
        "id": "oGE11Cti6Fqo"
      },
      "outputs": [],
      "source": [
        "from google.colab import files\n",
        "data = files.upload()"
      ]
    },
    {
      "cell_type": "code",
      "source": [
        "!pip install deep_tabular_augmentation"
      ],
      "metadata": {
        "collapsed": true,
        "id": "ebt5tnZo8V4o"
      },
      "execution_count": null,
      "outputs": []
    },
    {
      "cell_type": "code",
      "source": [
        "data_loc = '/content/RuminantVaccination.csv'"
      ],
      "metadata": {
        "id": "TRPbrEAh9Fxq"
      },
      "execution_count": null,
      "outputs": []
    },
    {
      "cell_type": "code",
      "source": [
        "import pandas as pd\n",
        "import numpy as np\n",
        "import torch\n",
        "from sklearn.model_selection import train_test_split\n",
        "from sklearn import preprocessing\n",
        "import deep_tabular_augmentation as dta\n",
        "import warnings; warnings.simplefilter('ignore')"
      ],
      "metadata": {
        "id": "hvTHld-07nsi"
      },
      "execution_count": null,
      "outputs": []
    },
    {
      "cell_type": "code",
      "source": [
        "dt = pd.read_csv(data_loc, sep=',')\n",
        "dt.head()"
      ],
      "metadata": {
        "id": "nHgDX6338y86"
      },
      "execution_count": null,
      "outputs": []
    },
    {
      "cell_type": "code",
      "source": [
        "!pip install ctgan"
      ],
      "metadata": {
        "id": "nT5FMNHE-lzp"
      },
      "execution_count": null,
      "outputs": []
    },
    {
      "cell_type": "code",
      "source": [
        "column_headers = list(dt.columns.values)\n",
        "print(column_headers)"
      ],
      "metadata": {
        "id": "m9KEvGmiBxdg"
      },
      "execution_count": null,
      "outputs": []
    },
    {
      "cell_type": "code",
      "source": [
        "discrete_columns = [\n",
        "    'Timestamp', \n",
        "    'Position of the Individual feeling the form', \n",
        "    'Location filling from', 'Time of filling this form.', \n",
        "    'Ruminant Animals are?', 'Do you know what Vaccines are?', \n",
        "    'Vaccines are?', \n",
        "    'Vaccines for which of these diseases have you seen/administered', \n",
        "    'Do you know the due time to administer these Vaccines?', \n",
        "    'What vaccines are you aware of their time of administration from the previous question?', \n",
        "    'Which of these Vaccines have you used before for your animal', \n",
        "    'Did the Vaccine confer Immunity?', \n",
        "    'Which Vaccine?', \n",
        "    'What were the adverse reactions observed after administration of the Vaccine?', \n",
        "    'Why have you not vaccinated your Ruminant Animals?', \n",
        "    'Is Anthrax vaccine locally made or imported?', \n",
        "    'Is CBPP vaccine locally made or imported?', \n",
        "    'Is Tetanus vaccine locally made or imported?', \n",
        "    'Is HSV vaccine locally made or imported?', \n",
        "    'Is PPR vaccine locally made or imported?', \n",
        "    'Is FMD vaccine locally produced or imported'\n",
        "]"
      ],
      "metadata": {
        "id": "iszTwkf2_DHB"
      },
      "execution_count": null,
      "outputs": []
    },
    {
      "cell_type": "code",
      "source": [
        "from ctgan import CTGAN\n",
        "\n",
        "ctgan_train = CTGAN()"
      ],
      "metadata": {
        "id": "HjPWkqS5C-AA"
      },
      "execution_count": null,
      "outputs": []
    },
    {
      "cell_type": "code",
      "source": [
        "ctgan_train.fit(dt, discrete_columns, epochs=10)"
      ],
      "metadata": {
        "id": "uayNXBcbDglx"
      },
      "execution_count": null,
      "outputs": []
    },
    {
      "cell_type": "code",
      "source": [
        "synthetic_data = ctgan_train.sample(1000)"
      ],
      "metadata": {
        "id": "crY6bI-qDyZ6"
      },
      "execution_count": null,
      "outputs": []
    },
    {
      "cell_type": "code",
      "source": [
        "synthetic_data"
      ],
      "metadata": {
        "id": "B3JsLmcfD8EA"
      },
      "execution_count": null,
      "outputs": []
    },
    {
      "cell_type": "code",
      "source": [],
      "metadata": {
        "id": "c8uw0Mt8EgtW"
      },
      "execution_count": null,
      "outputs": []
    },
    {
      "cell_type": "code",
      "source": [
        "synthetic_data.to_csv('/content/drive/MyDrive/synthetic_data.csv')"
      ],
      "metadata": {
        "id": "84thZg27EYdI"
      },
      "execution_count": null,
      "outputs": []
    }
  ]
}