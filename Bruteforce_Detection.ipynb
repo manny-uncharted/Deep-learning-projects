{
  "nbformat": 4,
  "nbformat_minor": 0,
  "metadata": {
    "colab": {
      "provenance": [],
      "collapsed_sections": [
        "WYGFJ_dNqQGY"
      ],
      "mount_file_id": "1W3t1rV0KQvJjDkkXrJJse0oFaGQo3gvh",
      "authorship_tag": "ABX9TyM5w2ouvQPmbTIgd+57fSZD",
      "include_colab_link": true
    },
    "kernelspec": {
      "name": "python3",
      "display_name": "Python 3"
    },
    "language_info": {
      "name": "python"
    },
    "accelerator": "GPU",
    "gpuClass": "premium"
  },
  "cells": [
    {
      "cell_type": "markdown",
      "metadata": {
        "id": "view-in-github",
        "colab_type": "text"
      },
      "source": [
        "<a href=\"https://colab.research.google.com/github/manny-uncharted/Deep-learning-projects/blob/main/Bruteforce_Detection.ipynb\" target=\"_parent\"><img src=\"https://colab.research.google.com/assets/colab-badge.svg\" alt=\"Open In Colab\"/></a>"
      ]
    },
    {
      "cell_type": "markdown",
      "source": [
        "# Unnecessary code dumps"
      ],
      "metadata": {
        "id": "WYGFJ_dNqQGY"
      }
    },
    {
      "cell_type": "code",
      "execution_count": null,
      "metadata": {
        "id": "jjfMZZin3Gho",
        "cellView": "form"
      },
      "outputs": [],
      "source": [
        "#@title\n",
        "!pip install -q kaggle"
      ]
    },
    {
      "cell_type": "code",
      "source": [
        "#@title Upload kaggle api key\n",
        "# Import kaggle access key\n",
        "from google.colab import files\n",
        "\n",
        "files.upload()"
      ],
      "metadata": {
        "colab": {
          "base_uri": "https://localhost:8080/",
          "height": 92
        },
        "id": "mdSyPmTEj2nj",
        "outputId": "640876e9-453e-4d98-be7f-b7898765ba5c",
        "cellView": "form",
        "collapsed": true
      },
      "execution_count": null,
      "outputs": [
        {
          "output_type": "display_data",
          "data": {
            "text/plain": [
              "<IPython.core.display.HTML object>"
            ],
            "text/html": [
              "\n",
              "     <input type=\"file\" id=\"files-5fd17152-bfa4-4c10-a444-474aae002a16\" name=\"files[]\" multiple disabled\n",
              "        style=\"border:none\" />\n",
              "     <output id=\"result-5fd17152-bfa4-4c10-a444-474aae002a16\">\n",
              "      Upload widget is only available when the cell has been executed in the\n",
              "      current browser session. Please rerun this cell to enable.\n",
              "      </output>\n",
              "      <script>// Copyright 2017 Google LLC\n",
              "//\n",
              "// Licensed under the Apache License, Version 2.0 (the \"License\");\n",
              "// you may not use this file except in compliance with the License.\n",
              "// You may obtain a copy of the License at\n",
              "//\n",
              "//      http://www.apache.org/licenses/LICENSE-2.0\n",
              "//\n",
              "// Unless required by applicable law or agreed to in writing, software\n",
              "// distributed under the License is distributed on an \"AS IS\" BASIS,\n",
              "// WITHOUT WARRANTIES OR CONDITIONS OF ANY KIND, either express or implied.\n",
              "// See the License for the specific language governing permissions and\n",
              "// limitations under the License.\n",
              "\n",
              "/**\n",
              " * @fileoverview Helpers for google.colab Python module.\n",
              " */\n",
              "(function(scope) {\n",
              "function span(text, styleAttributes = {}) {\n",
              "  const element = document.createElement('span');\n",
              "  element.textContent = text;\n",
              "  for (const key of Object.keys(styleAttributes)) {\n",
              "    element.style[key] = styleAttributes[key];\n",
              "  }\n",
              "  return element;\n",
              "}\n",
              "\n",
              "// Max number of bytes which will be uploaded at a time.\n",
              "const MAX_PAYLOAD_SIZE = 100 * 1024;\n",
              "\n",
              "function _uploadFiles(inputId, outputId) {\n",
              "  const steps = uploadFilesStep(inputId, outputId);\n",
              "  const outputElement = document.getElementById(outputId);\n",
              "  // Cache steps on the outputElement to make it available for the next call\n",
              "  // to uploadFilesContinue from Python.\n",
              "  outputElement.steps = steps;\n",
              "\n",
              "  return _uploadFilesContinue(outputId);\n",
              "}\n",
              "\n",
              "// This is roughly an async generator (not supported in the browser yet),\n",
              "// where there are multiple asynchronous steps and the Python side is going\n",
              "// to poll for completion of each step.\n",
              "// This uses a Promise to block the python side on completion of each step,\n",
              "// then passes the result of the previous step as the input to the next step.\n",
              "function _uploadFilesContinue(outputId) {\n",
              "  const outputElement = document.getElementById(outputId);\n",
              "  const steps = outputElement.steps;\n",
              "\n",
              "  const next = steps.next(outputElement.lastPromiseValue);\n",
              "  return Promise.resolve(next.value.promise).then((value) => {\n",
              "    // Cache the last promise value to make it available to the next\n",
              "    // step of the generator.\n",
              "    outputElement.lastPromiseValue = value;\n",
              "    return next.value.response;\n",
              "  });\n",
              "}\n",
              "\n",
              "/**\n",
              " * Generator function which is called between each async step of the upload\n",
              " * process.\n",
              " * @param {string} inputId Element ID of the input file picker element.\n",
              " * @param {string} outputId Element ID of the output display.\n",
              " * @return {!Iterable<!Object>} Iterable of next steps.\n",
              " */\n",
              "function* uploadFilesStep(inputId, outputId) {\n",
              "  const inputElement = document.getElementById(inputId);\n",
              "  inputElement.disabled = false;\n",
              "\n",
              "  const outputElement = document.getElementById(outputId);\n",
              "  outputElement.innerHTML = '';\n",
              "\n",
              "  const pickedPromise = new Promise((resolve) => {\n",
              "    inputElement.addEventListener('change', (e) => {\n",
              "      resolve(e.target.files);\n",
              "    });\n",
              "  });\n",
              "\n",
              "  const cancel = document.createElement('button');\n",
              "  inputElement.parentElement.appendChild(cancel);\n",
              "  cancel.textContent = 'Cancel upload';\n",
              "  const cancelPromise = new Promise((resolve) => {\n",
              "    cancel.onclick = () => {\n",
              "      resolve(null);\n",
              "    };\n",
              "  });\n",
              "\n",
              "  // Wait for the user to pick the files.\n",
              "  const files = yield {\n",
              "    promise: Promise.race([pickedPromise, cancelPromise]),\n",
              "    response: {\n",
              "      action: 'starting',\n",
              "    }\n",
              "  };\n",
              "\n",
              "  cancel.remove();\n",
              "\n",
              "  // Disable the input element since further picks are not allowed.\n",
              "  inputElement.disabled = true;\n",
              "\n",
              "  if (!files) {\n",
              "    return {\n",
              "      response: {\n",
              "        action: 'complete',\n",
              "      }\n",
              "    };\n",
              "  }\n",
              "\n",
              "  for (const file of files) {\n",
              "    const li = document.createElement('li');\n",
              "    li.append(span(file.name, {fontWeight: 'bold'}));\n",
              "    li.append(span(\n",
              "        `(${file.type || 'n/a'}) - ${file.size} bytes, ` +\n",
              "        `last modified: ${\n",
              "            file.lastModifiedDate ? file.lastModifiedDate.toLocaleDateString() :\n",
              "                                    'n/a'} - `));\n",
              "    const percent = span('0% done');\n",
              "    li.appendChild(percent);\n",
              "\n",
              "    outputElement.appendChild(li);\n",
              "\n",
              "    const fileDataPromise = new Promise((resolve) => {\n",
              "      const reader = new FileReader();\n",
              "      reader.onload = (e) => {\n",
              "        resolve(e.target.result);\n",
              "      };\n",
              "      reader.readAsArrayBuffer(file);\n",
              "    });\n",
              "    // Wait for the data to be ready.\n",
              "    let fileData = yield {\n",
              "      promise: fileDataPromise,\n",
              "      response: {\n",
              "        action: 'continue',\n",
              "      }\n",
              "    };\n",
              "\n",
              "    // Use a chunked sending to avoid message size limits. See b/62115660.\n",
              "    let position = 0;\n",
              "    do {\n",
              "      const length = Math.min(fileData.byteLength - position, MAX_PAYLOAD_SIZE);\n",
              "      const chunk = new Uint8Array(fileData, position, length);\n",
              "      position += length;\n",
              "\n",
              "      const base64 = btoa(String.fromCharCode.apply(null, chunk));\n",
              "      yield {\n",
              "        response: {\n",
              "          action: 'append',\n",
              "          file: file.name,\n",
              "          data: base64,\n",
              "        },\n",
              "      };\n",
              "\n",
              "      let percentDone = fileData.byteLength === 0 ?\n",
              "          100 :\n",
              "          Math.round((position / fileData.byteLength) * 100);\n",
              "      percent.textContent = `${percentDone}% done`;\n",
              "\n",
              "    } while (position < fileData.byteLength);\n",
              "  }\n",
              "\n",
              "  // All done.\n",
              "  yield {\n",
              "    response: {\n",
              "      action: 'complete',\n",
              "    }\n",
              "  };\n",
              "}\n",
              "\n",
              "scope.google = scope.google || {};\n",
              "scope.google.colab = scope.google.colab || {};\n",
              "scope.google.colab._files = {\n",
              "  _uploadFiles,\n",
              "  _uploadFilesContinue,\n",
              "};\n",
              "})(self);\n",
              "</script> "
            ]
          },
          "metadata": {}
        },
        {
          "output_type": "stream",
          "name": "stdout",
          "text": [
            "Saving kaggle.json to kaggle.json\n"
          ]
        },
        {
          "output_type": "execute_result",
          "data": {
            "text/plain": [
              "{'kaggle.json': b'{\"username\":\"manuel14\",\"key\":\"3b9dfe18c100635bc3acf633996e3786\"}'}"
            ]
          },
          "metadata": {},
          "execution_count": 2
        }
      ]
    },
    {
      "cell_type": "code",
      "source": [
        "#@title Directory to hold kaggle api-key\n",
        "!mkdir ~/.kaggle\n",
        "\n",
        "!cp kaggle.json ~/.kaggle/"
      ],
      "metadata": {
        "id": "2hNqT-E5j7S5",
        "cellView": "form"
      },
      "execution_count": null,
      "outputs": []
    },
    {
      "cell_type": "code",
      "source": [
        "#@title\n",
        "!chmod 600 ~/.kaggle/kaggle.json"
      ],
      "metadata": {
        "id": "aYVzcT3Pj_FL",
        "cellView": "form"
      },
      "execution_count": null,
      "outputs": []
    },
    {
      "cell_type": "code",
      "source": [
        "#@title Download Dataset from Kaggle\n",
        "!kaggle datasets download -d solarmainframe/ids-intrusion-csv"
      ],
      "metadata": {
        "colab": {
          "base_uri": "https://localhost:8080/"
        },
        "id": "FAZ1ACEWkCJy",
        "outputId": "3064fa1d-c53f-4695-9009-80999e6ac927",
        "cellView": "form",
        "collapsed": true
      },
      "execution_count": null,
      "outputs": [
        {
          "output_type": "stream",
          "name": "stdout",
          "text": [
            "Downloading ids-intrusion-csv.zip to /content\n",
            "100% 1.60G/1.60G [01:48<00:00, 16.6MB/s]\n",
            "100% 1.60G/1.60G [01:48<00:00, 15.9MB/s]\n"
          ]
        }
      ]
    },
    {
      "cell_type": "code",
      "source": [
        "#@title Create Dataset Folder\n",
        "!mkdir dataset"
      ],
      "metadata": {
        "id": "UamgCVYFlWOm",
        "cellView": "form"
      },
      "execution_count": null,
      "outputs": []
    },
    {
      "cell_type": "code",
      "source": [
        "#@title Unzip dataset from kaggle into a folder\n",
        "!unzip ids-intrusion-csv.zip -d dataset"
      ],
      "metadata": {
        "colab": {
          "base_uri": "https://localhost:8080/"
        },
        "id": "3wMWtBFalXY3",
        "outputId": "4db40583-504f-42b8-c518-b270e5c50265",
        "cellView": "form",
        "collapsed": true
      },
      "execution_count": null,
      "outputs": [
        {
          "output_type": "stream",
          "name": "stdout",
          "text": [
            "Archive:  ids-intrusion-csv.zip\n",
            "  inflating: dataset/02-14-2018.csv  \n",
            "  inflating: dataset/02-15-2018.csv  \n",
            "  inflating: dataset/02-16-2018.csv  \n",
            "  inflating: dataset/02-20-2018.csv  \n",
            "  inflating: dataset/02-21-2018.csv  \n",
            "  inflating: dataset/02-22-2018.csv  \n",
            "  inflating: dataset/02-23-2018.csv  \n",
            "  inflating: dataset/02-28-2018.csv  \n",
            "  inflating: dataset/03-01-2018.csv  \n",
            "  inflating: dataset/03-02-2018.csv  \n"
          ]
        }
      ]
    },
    {
      "cell_type": "code",
      "source": [
        "#@title Save the downloaded dataset from kaggle to google drive\n",
        "# copy dataset to drive folder\n",
        "!cp ids-intrusion-csv.zip /content/drive/MyDrive/"
      ],
      "metadata": {
        "id": "bYU_RO6BlcsA",
        "cellView": "form"
      },
      "execution_count": null,
      "outputs": []
    },
    {
      "cell_type": "markdown",
      "source": [
        "# Data Preprocessing"
      ],
      "metadata": {
        "id": "xg0GLIO6oNJN"
      }
    },
    {
      "cell_type": "code",
      "source": [
        "#@title Loading the dataset from my drive\n",
        "from google.colab import drive\n",
        "# drive.mount(\"/content/drive\")\n",
        "# Fetch zipfile from drive and extract it and store it in a folder called data\n",
        "!unzip /content/drive/MyDrive/ids-intrusion-csv.zip -d data"
      ],
      "metadata": {
        "colab": {
          "base_uri": "https://localhost:8080/"
        },
        "id": "OvZQeFxIpo89",
        "outputId": "7dadf11e-2b19-483a-bbda-a46f0f2b3bde"
      },
      "execution_count": null,
      "outputs": [
        {
          "output_type": "stream",
          "name": "stdout",
          "text": [
            "Archive:  /content/drive/MyDrive/ids-intrusion-csv.zip\n",
            "  inflating: data/02-14-2018.csv     \n",
            "  inflating: data/02-15-2018.csv     \n",
            "  inflating: data/02-16-2018.csv     \n",
            "  inflating: data/02-20-2018.csv     \n",
            "  inflating: data/02-21-2018.csv     \n",
            "  inflating: data/02-22-2018.csv     \n",
            "  inflating: data/02-23-2018.csv     \n",
            "  inflating: data/02-28-2018.csv     \n",
            "  inflating: data/03-01-2018.csv     \n",
            "  inflating: data/03-02-2018.csv     \n"
          ]
        }
      ]
    },
    {
      "cell_type": "code",
      "source": [
        "import numpy as np\n",
        "import pandas as pd \n",
        "import matplotlib.pyplot as plt \n",
        "import seaborn as sns \n",
        "from IPython.display import Audio"
      ],
      "metadata": {
        "id": "QdbAxUcHoar2"
      },
      "execution_count": null,
      "outputs": []
    },
    {
      "cell_type": "markdown",
      "source": [
        "## Understanding the dataset.\n",
        "The CSE-CIC-IDS2018 dataset contains different classes of types of attack but for our research study we would be focusing on bruteforce attacks.\n",
        "\n",
        "For the purpose of our study we would be encoding the benign and bruteforce attacks according to the following format.\n",
        "\n",
        "- 0 - benign\n",
        "- 1 - Bruteforce attack"
      ],
      "metadata": {
        "id": "F3ncCztForGx"
      }
    },
    {
      "cell_type": "code",
      "source": [
        "def encode_target(label):\n",
        "    if label==\"Benign\":\n",
        "        return 0 # Benign network traffic\n",
        "    if \"Bruteforce\" in label or \"BruteForce\" in label:\n",
        "        return 1 # Bruteforce attack"
      ],
      "metadata": {
        "id": "1L6-VlxVoaiL"
      },
      "execution_count": null,
      "outputs": []
    },
    {
      "cell_type": "code",
      "source": [
        "\"\"\"\n",
        "This function is to clean the dataset and drop missing data and rows with infinity and the target 'Label'.\n",
        "We are also dropping duplicate network traffic data. We have to drop the timestamp feature as it doesn't give us any relevant information that can help us in our prediction model.\n",
        "And also the destination port as we just want to predict the attack not the port being attacked.\n",
        "It also shows the percentage of Mising data and duplicate data\n",
        "\"\"\"\n",
        "def clean_data(data, time=False):\n",
        "    data = data.drop(\"Dst Port\", axis = 1)\n",
        "    \n",
        "    # Drop any rows with \"Infinity\" values or labels with the value \"Label\"\n",
        "    data = data.drop(data[data.eq(\"Infinity\").any(1)].index,axis=0)\n",
        "    data = data.drop(data[data.eq(\"Label\").any(1)].index,axis=0)\n",
        "    \n",
        "    # Percent of missing data \n",
        "    print(\"Missing Data:\",round(data.isnull().sum().sum()/len(data)*100,3),\"%\") # Just over 0.2%, very minimal so we can remove this \n",
        "    data = data.dropna()\n",
        "\n",
        "    # Percent of duplicated data\n",
        "    print(\"Duplicated Data:\", round(len(data[data.duplicated()])/len(data)*100,2),\"%\")\n",
        "    data = data.drop_duplicates()\n",
        "\n",
        "    if not time:\n",
        "        # Dropping the timestamp feature \n",
        "        data = data.drop(\"Timestamp\", axis = 1)\n",
        "\n",
        "    # One hot encoding the protocol feature \n",
        "    data['Protocol'] = data['Protocol'].astype(int)\n",
        "    dum_df = pd.get_dummies(data[\"Protocol\"],prefix=\"prot_\")\n",
        "    data = data.drop([\"Protocol\"],axis=1)\n",
        "    data = pd.concat([data,dum_df],axis=1) \n",
        "    \n",
        "    data[\"target\"] = np.vectorize(encode_target)(data[\"Label\"])\n",
        "    data = data.drop(\"Label\", axis = 1)\n",
        "\n",
        "    return data "
      ],
      "metadata": {
        "id": "XVYPG50ZoafK"
      },
      "execution_count": null,
      "outputs": []
    },
    {
      "cell_type": "code",
      "source": [
        "bruteforce = pd.read_csv(\"/content/data/02-14-2018.csv\")"
      ],
      "metadata": {
        "id": "bqEWNBaJoaYj"
      },
      "execution_count": null,
      "outputs": []
    },
    {
      "cell_type": "code",
      "source": [
        "# Calculating the type of attacks present in the bruteforce dataset.\n",
        "bruteforce['Label'].value_counts()"
      ],
      "metadata": {
        "colab": {
          "base_uri": "https://localhost:8080/"
        },
        "id": "T2_8ZzlIqzyd",
        "outputId": "51688cc7-f173-4312-a348-5af9e4808493"
      },
      "execution_count": null,
      "outputs": [
        {
          "output_type": "execute_result",
          "data": {
            "text/plain": [
              "Benign            667626\n",
              "FTP-BruteForce    193360\n",
              "SSH-Bruteforce    187589\n",
              "Name: Label, dtype: int64"
            ]
          },
          "metadata": {},
          "execution_count": 26
        }
      ]
    },
    {
      "cell_type": "code",
      "source": [
        "# Cleaning our dataset\n",
        "bruteforce = clean_data(bruteforce,time=False)"
      ],
      "metadata": {
        "colab": {
          "base_uri": "https://localhost:8080/"
        },
        "id": "Mre78gnCqzvl",
        "outputId": "a9d99f3f-4b28-4285-9191-8ee07c4cd85a"
      },
      "execution_count": null,
      "outputs": [
        {
          "output_type": "stream",
          "name": "stdout",
          "text": [
            "Missing Data: 0.217 %\n",
            "Duplicated Data: 21.65 %\n"
          ]
        }
      ]
    },
    {
      "cell_type": "code",
      "source": [
        "bruteforce.head()"
      ],
      "metadata": {
        "colab": {
          "base_uri": "https://localhost:8080/",
          "height": 331
        },
        "id": "KcF48uNxqzsZ",
        "outputId": "bbc0d040-8fcc-4d27-947e-9e79e1fcdcea"
      },
      "execution_count": null,
      "outputs": [
        {
          "output_type": "execute_result",
          "data": {
            "text/plain": [
              "   Flow Duration  Tot Fwd Pkts  Tot Bwd Pkts  TotLen Fwd Pkts  \\\n",
              "0      112641719             3             0                0   \n",
              "1      112641466             3             0                0   \n",
              "2      112638623             3             0                0   \n",
              "3        6453966            15            10             1239   \n",
              "4        8804066            14            11             1143   \n",
              "\n",
              "   TotLen Bwd Pkts  Fwd Pkt Len Max  Fwd Pkt Len Min  Fwd Pkt Len Mean  \\\n",
              "0                0                0                0          0.000000   \n",
              "1                0                0                0          0.000000   \n",
              "2                0                0                0          0.000000   \n",
              "3             2273              744                0         82.600000   \n",
              "4             2209              744                0         81.642857   \n",
              "\n",
              "   Fwd Pkt Len Std  Bwd Pkt Len Max  ...  Active Max  Active Min   Idle Mean  \\\n",
              "0         0.000000                0  ...           0           0  56320859.5   \n",
              "1         0.000000                0  ...           0           0  56320733.0   \n",
              "2         0.000000                0  ...           0           0  56319311.5   \n",
              "3       196.741237              976  ...           0           0         0.0   \n",
              "4       203.745545              976  ...           0           0         0.0   \n",
              "\n",
              "     Idle Std  Idle Max  Idle Min  prot__0  prot__6  prot__17  target  \n",
              "0  139.300036  56320958  56320761        1        0         0       0  \n",
              "1  114.551299  56320814  56320652        1        0         0       0  \n",
              "2  301.934596  56319525  56319098        1        0         0       0  \n",
              "3    0.000000         0         0        0        1         0       0  \n",
              "4    0.000000         0         0        0        1         0       0  \n",
              "\n",
              "[5 rows x 80 columns]"
            ],
            "text/html": [
              "\n",
              "  <div id=\"df-9b6c2fb5-a31e-41ff-bbf5-d2abec82de3e\">\n",
              "    <div class=\"colab-df-container\">\n",
              "      <div>\n",
              "<style scoped>\n",
              "    .dataframe tbody tr th:only-of-type {\n",
              "        vertical-align: middle;\n",
              "    }\n",
              "\n",
              "    .dataframe tbody tr th {\n",
              "        vertical-align: top;\n",
              "    }\n",
              "\n",
              "    .dataframe thead th {\n",
              "        text-align: right;\n",
              "    }\n",
              "</style>\n",
              "<table border=\"1\" class=\"dataframe\">\n",
              "  <thead>\n",
              "    <tr style=\"text-align: right;\">\n",
              "      <th></th>\n",
              "      <th>Flow Duration</th>\n",
              "      <th>Tot Fwd Pkts</th>\n",
              "      <th>Tot Bwd Pkts</th>\n",
              "      <th>TotLen Fwd Pkts</th>\n",
              "      <th>TotLen Bwd Pkts</th>\n",
              "      <th>Fwd Pkt Len Max</th>\n",
              "      <th>Fwd Pkt Len Min</th>\n",
              "      <th>Fwd Pkt Len Mean</th>\n",
              "      <th>Fwd Pkt Len Std</th>\n",
              "      <th>Bwd Pkt Len Max</th>\n",
              "      <th>...</th>\n",
              "      <th>Active Max</th>\n",
              "      <th>Active Min</th>\n",
              "      <th>Idle Mean</th>\n",
              "      <th>Idle Std</th>\n",
              "      <th>Idle Max</th>\n",
              "      <th>Idle Min</th>\n",
              "      <th>prot__0</th>\n",
              "      <th>prot__6</th>\n",
              "      <th>prot__17</th>\n",
              "      <th>target</th>\n",
              "    </tr>\n",
              "  </thead>\n",
              "  <tbody>\n",
              "    <tr>\n",
              "      <th>0</th>\n",
              "      <td>112641719</td>\n",
              "      <td>3</td>\n",
              "      <td>0</td>\n",
              "      <td>0</td>\n",
              "      <td>0</td>\n",
              "      <td>0</td>\n",
              "      <td>0</td>\n",
              "      <td>0.000000</td>\n",
              "      <td>0.000000</td>\n",
              "      <td>0</td>\n",
              "      <td>...</td>\n",
              "      <td>0</td>\n",
              "      <td>0</td>\n",
              "      <td>56320859.5</td>\n",
              "      <td>139.300036</td>\n",
              "      <td>56320958</td>\n",
              "      <td>56320761</td>\n",
              "      <td>1</td>\n",
              "      <td>0</td>\n",
              "      <td>0</td>\n",
              "      <td>0</td>\n",
              "    </tr>\n",
              "    <tr>\n",
              "      <th>1</th>\n",
              "      <td>112641466</td>\n",
              "      <td>3</td>\n",
              "      <td>0</td>\n",
              "      <td>0</td>\n",
              "      <td>0</td>\n",
              "      <td>0</td>\n",
              "      <td>0</td>\n",
              "      <td>0.000000</td>\n",
              "      <td>0.000000</td>\n",
              "      <td>0</td>\n",
              "      <td>...</td>\n",
              "      <td>0</td>\n",
              "      <td>0</td>\n",
              "      <td>56320733.0</td>\n",
              "      <td>114.551299</td>\n",
              "      <td>56320814</td>\n",
              "      <td>56320652</td>\n",
              "      <td>1</td>\n",
              "      <td>0</td>\n",
              "      <td>0</td>\n",
              "      <td>0</td>\n",
              "    </tr>\n",
              "    <tr>\n",
              "      <th>2</th>\n",
              "      <td>112638623</td>\n",
              "      <td>3</td>\n",
              "      <td>0</td>\n",
              "      <td>0</td>\n",
              "      <td>0</td>\n",
              "      <td>0</td>\n",
              "      <td>0</td>\n",
              "      <td>0.000000</td>\n",
              "      <td>0.000000</td>\n",
              "      <td>0</td>\n",
              "      <td>...</td>\n",
              "      <td>0</td>\n",
              "      <td>0</td>\n",
              "      <td>56319311.5</td>\n",
              "      <td>301.934596</td>\n",
              "      <td>56319525</td>\n",
              "      <td>56319098</td>\n",
              "      <td>1</td>\n",
              "      <td>0</td>\n",
              "      <td>0</td>\n",
              "      <td>0</td>\n",
              "    </tr>\n",
              "    <tr>\n",
              "      <th>3</th>\n",
              "      <td>6453966</td>\n",
              "      <td>15</td>\n",
              "      <td>10</td>\n",
              "      <td>1239</td>\n",
              "      <td>2273</td>\n",
              "      <td>744</td>\n",
              "      <td>0</td>\n",
              "      <td>82.600000</td>\n",
              "      <td>196.741237</td>\n",
              "      <td>976</td>\n",
              "      <td>...</td>\n",
              "      <td>0</td>\n",
              "      <td>0</td>\n",
              "      <td>0.0</td>\n",
              "      <td>0.000000</td>\n",
              "      <td>0</td>\n",
              "      <td>0</td>\n",
              "      <td>0</td>\n",
              "      <td>1</td>\n",
              "      <td>0</td>\n",
              "      <td>0</td>\n",
              "    </tr>\n",
              "    <tr>\n",
              "      <th>4</th>\n",
              "      <td>8804066</td>\n",
              "      <td>14</td>\n",
              "      <td>11</td>\n",
              "      <td>1143</td>\n",
              "      <td>2209</td>\n",
              "      <td>744</td>\n",
              "      <td>0</td>\n",
              "      <td>81.642857</td>\n",
              "      <td>203.745545</td>\n",
              "      <td>976</td>\n",
              "      <td>...</td>\n",
              "      <td>0</td>\n",
              "      <td>0</td>\n",
              "      <td>0.0</td>\n",
              "      <td>0.000000</td>\n",
              "      <td>0</td>\n",
              "      <td>0</td>\n",
              "      <td>0</td>\n",
              "      <td>1</td>\n",
              "      <td>0</td>\n",
              "      <td>0</td>\n",
              "    </tr>\n",
              "  </tbody>\n",
              "</table>\n",
              "<p>5 rows × 80 columns</p>\n",
              "</div>\n",
              "      <button class=\"colab-df-convert\" onclick=\"convertToInteractive('df-9b6c2fb5-a31e-41ff-bbf5-d2abec82de3e')\"\n",
              "              title=\"Convert this dataframe to an interactive table.\"\n",
              "              style=\"display:none;\">\n",
              "        \n",
              "  <svg xmlns=\"http://www.w3.org/2000/svg\" height=\"24px\"viewBox=\"0 0 24 24\"\n",
              "       width=\"24px\">\n",
              "    <path d=\"M0 0h24v24H0V0z\" fill=\"none\"/>\n",
              "    <path d=\"M18.56 5.44l.94 2.06.94-2.06 2.06-.94-2.06-.94-.94-2.06-.94 2.06-2.06.94zm-11 1L8.5 8.5l.94-2.06 2.06-.94-2.06-.94L8.5 2.5l-.94 2.06-2.06.94zm10 10l.94 2.06.94-2.06 2.06-.94-2.06-.94-.94-2.06-.94 2.06-2.06.94z\"/><path d=\"M17.41 7.96l-1.37-1.37c-.4-.4-.92-.59-1.43-.59-.52 0-1.04.2-1.43.59L10.3 9.45l-7.72 7.72c-.78.78-.78 2.05 0 2.83L4 21.41c.39.39.9.59 1.41.59.51 0 1.02-.2 1.41-.59l7.78-7.78 2.81-2.81c.8-.78.8-2.07 0-2.86zM5.41 20L4 18.59l7.72-7.72 1.47 1.35L5.41 20z\"/>\n",
              "  </svg>\n",
              "      </button>\n",
              "      \n",
              "  <style>\n",
              "    .colab-df-container {\n",
              "      display:flex;\n",
              "      flex-wrap:wrap;\n",
              "      gap: 12px;\n",
              "    }\n",
              "\n",
              "    .colab-df-convert {\n",
              "      background-color: #E8F0FE;\n",
              "      border: none;\n",
              "      border-radius: 50%;\n",
              "      cursor: pointer;\n",
              "      display: none;\n",
              "      fill: #1967D2;\n",
              "      height: 32px;\n",
              "      padding: 0 0 0 0;\n",
              "      width: 32px;\n",
              "    }\n",
              "\n",
              "    .colab-df-convert:hover {\n",
              "      background-color: #E2EBFA;\n",
              "      box-shadow: 0px 1px 2px rgba(60, 64, 67, 0.3), 0px 1px 3px 1px rgba(60, 64, 67, 0.15);\n",
              "      fill: #174EA6;\n",
              "    }\n",
              "\n",
              "    [theme=dark] .colab-df-convert {\n",
              "      background-color: #3B4455;\n",
              "      fill: #D2E3FC;\n",
              "    }\n",
              "\n",
              "    [theme=dark] .colab-df-convert:hover {\n",
              "      background-color: #434B5C;\n",
              "      box-shadow: 0px 1px 3px 1px rgba(0, 0, 0, 0.15);\n",
              "      filter: drop-shadow(0px 1px 2px rgba(0, 0, 0, 0.3));\n",
              "      fill: #FFFFFF;\n",
              "    }\n",
              "  </style>\n",
              "\n",
              "      <script>\n",
              "        const buttonEl =\n",
              "          document.querySelector('#df-9b6c2fb5-a31e-41ff-bbf5-d2abec82de3e button.colab-df-convert');\n",
              "        buttonEl.style.display =\n",
              "          google.colab.kernel.accessAllowed ? 'block' : 'none';\n",
              "\n",
              "        async function convertToInteractive(key) {\n",
              "          const element = document.querySelector('#df-9b6c2fb5-a31e-41ff-bbf5-d2abec82de3e');\n",
              "          const dataTable =\n",
              "            await google.colab.kernel.invokeFunction('convertToInteractive',\n",
              "                                                     [key], {});\n",
              "          if (!dataTable) return;\n",
              "\n",
              "          const docLinkHtml = 'Like what you see? Visit the ' +\n",
              "            '<a target=\"_blank\" href=https://colab.research.google.com/notebooks/data_table.ipynb>data table notebook</a>'\n",
              "            + ' to learn more about interactive tables.';\n",
              "          element.innerHTML = '';\n",
              "          dataTable['output_type'] = 'display_data';\n",
              "          await google.colab.output.renderOutput(dataTable, element);\n",
              "          const docLink = document.createElement('div');\n",
              "          docLink.innerHTML = docLinkHtml;\n",
              "          element.appendChild(docLink);\n",
              "        }\n",
              "      </script>\n",
              "    </div>\n",
              "  </div>\n",
              "  "
            ]
          },
          "metadata": {},
          "execution_count": 28
        }
      ]
    },
    {
      "cell_type": "code",
      "source": [
        "bruteforce[\"target\"].value_counts()"
      ],
      "metadata": {
        "colab": {
          "base_uri": "https://localhost:8080/"
        },
        "id": "8zuRsiYHqzp0",
        "outputId": "b7a7f6fd-d99e-46c0-abd4-b110acb4631c"
      },
      "execution_count": null,
      "outputs": [
        {
          "output_type": "execute_result",
          "data": {
            "text/plain": [
              "0    663094\n",
              "1    156668\n",
              "Name: target, dtype: int64"
            ]
          },
          "metadata": {},
          "execution_count": 29
        }
      ]
    },
    {
      "cell_type": "code",
      "source": [
        "bruteforce.dtypes"
      ],
      "metadata": {
        "colab": {
          "base_uri": "https://localhost:8080/"
        },
        "id": "1eP9b_p3-RXP",
        "outputId": "2130d2d3-ecfc-4707-eb40-550fd722d418"
      },
      "execution_count": null,
      "outputs": [
        {
          "output_type": "execute_result",
          "data": {
            "text/plain": [
              "Flow Duration      int64\n",
              "Tot Fwd Pkts       int64\n",
              "Tot Bwd Pkts       int64\n",
              "TotLen Fwd Pkts    int64\n",
              "TotLen Bwd Pkts    int64\n",
              "                   ...  \n",
              "Idle Min           int64\n",
              "prot__0            uint8\n",
              "prot__6            uint8\n",
              "prot__17           uint8\n",
              "target             int64\n",
              "Length: 80, dtype: object"
            ]
          },
          "metadata": {},
          "execution_count": 31
        }
      ]
    },
    {
      "cell_type": "code",
      "source": [
        "bruteforce.describe()"
      ],
      "metadata": {
        "colab": {
          "base_uri": "https://localhost:8080/",
          "height": 411
        },
        "id": "OZl6iMog-xD_",
        "outputId": "476ceccc-2cce-4290-98cb-8a43caf41e10"
      },
      "execution_count": null,
      "outputs": [
        {
          "output_type": "execute_result",
          "data": {
            "text/plain": [
              "       Flow Duration   Tot Fwd Pkts   Tot Bwd Pkts  TotLen Fwd Pkts  \\\n",
              "count   8.197620e+05  819762.000000  819762.000000     8.197620e+05   \n",
              "mean    8.001603e+06       7.654585       8.950084     5.730110e+02   \n",
              "std     1.425362e+09      50.208779     118.545633     1.779447e+04   \n",
              "min    -9.190110e+11       1.000000       0.000000     0.000000e+00   \n",
              "25%     3.160000e+02       1.000000       1.000000     0.000000e+00   \n",
              "50%     4.915300e+04       2.000000       1.000000     5.600000e+01   \n",
              "75%     1.751970e+06       9.000000       7.000000     1.128000e+03   \n",
              "max     1.200000e+08    5115.000000    9198.000000     8.591554e+06   \n",
              "\n",
              "       TotLen Bwd Pkts  Fwd Pkt Len Max  Fwd Pkt Len Min  Fwd Pkt Len Mean  \\\n",
              "count     8.197620e+05    819762.000000    819762.000000     819762.000000   \n",
              "mean      5.783931e+03       223.275652        10.728256         49.610448   \n",
              "std       1.713250e+05       308.192709        21.452856         55.677538   \n",
              "min       0.000000e+00         0.000000         0.000000          0.000000   \n",
              "25%       0.000000e+00         0.000000         0.000000          0.000000   \n",
              "50%       1.320000e+02        45.000000         0.000000         40.000000   \n",
              "75%       1.581000e+03       572.000000        22.000000         80.333333   \n",
              "max       1.339773e+07     64440.000000      1460.000000      11217.025225   \n",
              "\n",
              "       Fwd Pkt Len Std  Bwd Pkt Len Max  ...    Active Max    Active Min  \\\n",
              "count    819762.000000    819762.000000  ...  8.197620e+05  8.197620e+05   \n",
              "mean         64.211154       425.334506  ...  1.124240e+05  5.110700e+04   \n",
              "std          91.565220       522.013994  ...  8.347933e+05  6.332049e+05   \n",
              "min           0.000000         0.000000  ...  0.000000e+00  0.000000e+00   \n",
              "25%           0.000000         0.000000  ...  0.000000e+00  0.000000e+00   \n",
              "50%           0.000000       118.000000  ...  0.000000e+00  0.000000e+00   \n",
              "75%         135.847392       976.000000  ...  0.000000e+00  0.000000e+00   \n",
              "max       15760.837590      1460.000000  ...  1.102401e+08  1.102401e+08   \n",
              "\n",
              "          Idle Mean      Idle Std      Idle Max      Idle Min        prot__0  \\\n",
              "count  8.197620e+05  8.197620e+05  8.197620e+05  8.197620e+05  819762.000000   \n",
              "mean   3.966819e+06  9.334026e+05  6.155631e+06  2.720588e+06       0.014493   \n",
              "std    6.123993e+08  4.320386e+08  1.721485e+09  2.051077e+07       0.119512   \n",
              "min    0.000000e+00  0.000000e+00  0.000000e+00  0.000000e+00       0.000000   \n",
              "25%    0.000000e+00  0.000000e+00  0.000000e+00  0.000000e+00       0.000000   \n",
              "50%    0.000000e+00  0.000000e+00  0.000000e+00  0.000000e+00       0.000000   \n",
              "75%    0.000000e+00  0.000000e+00  0.000000e+00  0.000000e+00       0.000000   \n",
              "max    3.394503e+11  2.432682e+11  9.797810e+11  1.260300e+10       1.000000   \n",
              "\n",
              "             prot__6       prot__17         target  \n",
              "count  819762.000000  819762.000000  819762.000000  \n",
              "mean        0.732582       0.252925       0.191114  \n",
              "std         0.442612       0.434688       0.393179  \n",
              "min         0.000000       0.000000       0.000000  \n",
              "25%         0.000000       0.000000       0.000000  \n",
              "50%         1.000000       0.000000       0.000000  \n",
              "75%         1.000000       1.000000       0.000000  \n",
              "max         1.000000       1.000000       1.000000  \n",
              "\n",
              "[8 rows x 80 columns]"
            ],
            "text/html": [
              "\n",
              "  <div id=\"df-f009d07e-74d1-4044-9645-b2a2c363903d\">\n",
              "    <div class=\"colab-df-container\">\n",
              "      <div>\n",
              "<style scoped>\n",
              "    .dataframe tbody tr th:only-of-type {\n",
              "        vertical-align: middle;\n",
              "    }\n",
              "\n",
              "    .dataframe tbody tr th {\n",
              "        vertical-align: top;\n",
              "    }\n",
              "\n",
              "    .dataframe thead th {\n",
              "        text-align: right;\n",
              "    }\n",
              "</style>\n",
              "<table border=\"1\" class=\"dataframe\">\n",
              "  <thead>\n",
              "    <tr style=\"text-align: right;\">\n",
              "      <th></th>\n",
              "      <th>Flow Duration</th>\n",
              "      <th>Tot Fwd Pkts</th>\n",
              "      <th>Tot Bwd Pkts</th>\n",
              "      <th>TotLen Fwd Pkts</th>\n",
              "      <th>TotLen Bwd Pkts</th>\n",
              "      <th>Fwd Pkt Len Max</th>\n",
              "      <th>Fwd Pkt Len Min</th>\n",
              "      <th>Fwd Pkt Len Mean</th>\n",
              "      <th>Fwd Pkt Len Std</th>\n",
              "      <th>Bwd Pkt Len Max</th>\n",
              "      <th>...</th>\n",
              "      <th>Active Max</th>\n",
              "      <th>Active Min</th>\n",
              "      <th>Idle Mean</th>\n",
              "      <th>Idle Std</th>\n",
              "      <th>Idle Max</th>\n",
              "      <th>Idle Min</th>\n",
              "      <th>prot__0</th>\n",
              "      <th>prot__6</th>\n",
              "      <th>prot__17</th>\n",
              "      <th>target</th>\n",
              "    </tr>\n",
              "  </thead>\n",
              "  <tbody>\n",
              "    <tr>\n",
              "      <th>count</th>\n",
              "      <td>8.197620e+05</td>\n",
              "      <td>819762.000000</td>\n",
              "      <td>819762.000000</td>\n",
              "      <td>8.197620e+05</td>\n",
              "      <td>8.197620e+05</td>\n",
              "      <td>819762.000000</td>\n",
              "      <td>819762.000000</td>\n",
              "      <td>819762.000000</td>\n",
              "      <td>819762.000000</td>\n",
              "      <td>819762.000000</td>\n",
              "      <td>...</td>\n",
              "      <td>8.197620e+05</td>\n",
              "      <td>8.197620e+05</td>\n",
              "      <td>8.197620e+05</td>\n",
              "      <td>8.197620e+05</td>\n",
              "      <td>8.197620e+05</td>\n",
              "      <td>8.197620e+05</td>\n",
              "      <td>819762.000000</td>\n",
              "      <td>819762.000000</td>\n",
              "      <td>819762.000000</td>\n",
              "      <td>819762.000000</td>\n",
              "    </tr>\n",
              "    <tr>\n",
              "      <th>mean</th>\n",
              "      <td>8.001603e+06</td>\n",
              "      <td>7.654585</td>\n",
              "      <td>8.950084</td>\n",
              "      <td>5.730110e+02</td>\n",
              "      <td>5.783931e+03</td>\n",
              "      <td>223.275652</td>\n",
              "      <td>10.728256</td>\n",
              "      <td>49.610448</td>\n",
              "      <td>64.211154</td>\n",
              "      <td>425.334506</td>\n",
              "      <td>...</td>\n",
              "      <td>1.124240e+05</td>\n",
              "      <td>5.110700e+04</td>\n",
              "      <td>3.966819e+06</td>\n",
              "      <td>9.334026e+05</td>\n",
              "      <td>6.155631e+06</td>\n",
              "      <td>2.720588e+06</td>\n",
              "      <td>0.014493</td>\n",
              "      <td>0.732582</td>\n",
              "      <td>0.252925</td>\n",
              "      <td>0.191114</td>\n",
              "    </tr>\n",
              "    <tr>\n",
              "      <th>std</th>\n",
              "      <td>1.425362e+09</td>\n",
              "      <td>50.208779</td>\n",
              "      <td>118.545633</td>\n",
              "      <td>1.779447e+04</td>\n",
              "      <td>1.713250e+05</td>\n",
              "      <td>308.192709</td>\n",
              "      <td>21.452856</td>\n",
              "      <td>55.677538</td>\n",
              "      <td>91.565220</td>\n",
              "      <td>522.013994</td>\n",
              "      <td>...</td>\n",
              "      <td>8.347933e+05</td>\n",
              "      <td>6.332049e+05</td>\n",
              "      <td>6.123993e+08</td>\n",
              "      <td>4.320386e+08</td>\n",
              "      <td>1.721485e+09</td>\n",
              "      <td>2.051077e+07</td>\n",
              "      <td>0.119512</td>\n",
              "      <td>0.442612</td>\n",
              "      <td>0.434688</td>\n",
              "      <td>0.393179</td>\n",
              "    </tr>\n",
              "    <tr>\n",
              "      <th>min</th>\n",
              "      <td>-9.190110e+11</td>\n",
              "      <td>1.000000</td>\n",
              "      <td>0.000000</td>\n",
              "      <td>0.000000e+00</td>\n",
              "      <td>0.000000e+00</td>\n",
              "      <td>0.000000</td>\n",
              "      <td>0.000000</td>\n",
              "      <td>0.000000</td>\n",
              "      <td>0.000000</td>\n",
              "      <td>0.000000</td>\n",
              "      <td>...</td>\n",
              "      <td>0.000000e+00</td>\n",
              "      <td>0.000000e+00</td>\n",
              "      <td>0.000000e+00</td>\n",
              "      <td>0.000000e+00</td>\n",
              "      <td>0.000000e+00</td>\n",
              "      <td>0.000000e+00</td>\n",
              "      <td>0.000000</td>\n",
              "      <td>0.000000</td>\n",
              "      <td>0.000000</td>\n",
              "      <td>0.000000</td>\n",
              "    </tr>\n",
              "    <tr>\n",
              "      <th>25%</th>\n",
              "      <td>3.160000e+02</td>\n",
              "      <td>1.000000</td>\n",
              "      <td>1.000000</td>\n",
              "      <td>0.000000e+00</td>\n",
              "      <td>0.000000e+00</td>\n",
              "      <td>0.000000</td>\n",
              "      <td>0.000000</td>\n",
              "      <td>0.000000</td>\n",
              "      <td>0.000000</td>\n",
              "      <td>0.000000</td>\n",
              "      <td>...</td>\n",
              "      <td>0.000000e+00</td>\n",
              "      <td>0.000000e+00</td>\n",
              "      <td>0.000000e+00</td>\n",
              "      <td>0.000000e+00</td>\n",
              "      <td>0.000000e+00</td>\n",
              "      <td>0.000000e+00</td>\n",
              "      <td>0.000000</td>\n",
              "      <td>0.000000</td>\n",
              "      <td>0.000000</td>\n",
              "      <td>0.000000</td>\n",
              "    </tr>\n",
              "    <tr>\n",
              "      <th>50%</th>\n",
              "      <td>4.915300e+04</td>\n",
              "      <td>2.000000</td>\n",
              "      <td>1.000000</td>\n",
              "      <td>5.600000e+01</td>\n",
              "      <td>1.320000e+02</td>\n",
              "      <td>45.000000</td>\n",
              "      <td>0.000000</td>\n",
              "      <td>40.000000</td>\n",
              "      <td>0.000000</td>\n",
              "      <td>118.000000</td>\n",
              "      <td>...</td>\n",
              "      <td>0.000000e+00</td>\n",
              "      <td>0.000000e+00</td>\n",
              "      <td>0.000000e+00</td>\n",
              "      <td>0.000000e+00</td>\n",
              "      <td>0.000000e+00</td>\n",
              "      <td>0.000000e+00</td>\n",
              "      <td>0.000000</td>\n",
              "      <td>1.000000</td>\n",
              "      <td>0.000000</td>\n",
              "      <td>0.000000</td>\n",
              "    </tr>\n",
              "    <tr>\n",
              "      <th>75%</th>\n",
              "      <td>1.751970e+06</td>\n",
              "      <td>9.000000</td>\n",
              "      <td>7.000000</td>\n",
              "      <td>1.128000e+03</td>\n",
              "      <td>1.581000e+03</td>\n",
              "      <td>572.000000</td>\n",
              "      <td>22.000000</td>\n",
              "      <td>80.333333</td>\n",
              "      <td>135.847392</td>\n",
              "      <td>976.000000</td>\n",
              "      <td>...</td>\n",
              "      <td>0.000000e+00</td>\n",
              "      <td>0.000000e+00</td>\n",
              "      <td>0.000000e+00</td>\n",
              "      <td>0.000000e+00</td>\n",
              "      <td>0.000000e+00</td>\n",
              "      <td>0.000000e+00</td>\n",
              "      <td>0.000000</td>\n",
              "      <td>1.000000</td>\n",
              "      <td>1.000000</td>\n",
              "      <td>0.000000</td>\n",
              "    </tr>\n",
              "    <tr>\n",
              "      <th>max</th>\n",
              "      <td>1.200000e+08</td>\n",
              "      <td>5115.000000</td>\n",
              "      <td>9198.000000</td>\n",
              "      <td>8.591554e+06</td>\n",
              "      <td>1.339773e+07</td>\n",
              "      <td>64440.000000</td>\n",
              "      <td>1460.000000</td>\n",
              "      <td>11217.025225</td>\n",
              "      <td>15760.837590</td>\n",
              "      <td>1460.000000</td>\n",
              "      <td>...</td>\n",
              "      <td>1.102401e+08</td>\n",
              "      <td>1.102401e+08</td>\n",
              "      <td>3.394503e+11</td>\n",
              "      <td>2.432682e+11</td>\n",
              "      <td>9.797810e+11</td>\n",
              "      <td>1.260300e+10</td>\n",
              "      <td>1.000000</td>\n",
              "      <td>1.000000</td>\n",
              "      <td>1.000000</td>\n",
              "      <td>1.000000</td>\n",
              "    </tr>\n",
              "  </tbody>\n",
              "</table>\n",
              "<p>8 rows × 80 columns</p>\n",
              "</div>\n",
              "      <button class=\"colab-df-convert\" onclick=\"convertToInteractive('df-f009d07e-74d1-4044-9645-b2a2c363903d')\"\n",
              "              title=\"Convert this dataframe to an interactive table.\"\n",
              "              style=\"display:none;\">\n",
              "        \n",
              "  <svg xmlns=\"http://www.w3.org/2000/svg\" height=\"24px\"viewBox=\"0 0 24 24\"\n",
              "       width=\"24px\">\n",
              "    <path d=\"M0 0h24v24H0V0z\" fill=\"none\"/>\n",
              "    <path d=\"M18.56 5.44l.94 2.06.94-2.06 2.06-.94-2.06-.94-.94-2.06-.94 2.06-2.06.94zm-11 1L8.5 8.5l.94-2.06 2.06-.94-2.06-.94L8.5 2.5l-.94 2.06-2.06.94zm10 10l.94 2.06.94-2.06 2.06-.94-2.06-.94-.94-2.06-.94 2.06-2.06.94z\"/><path d=\"M17.41 7.96l-1.37-1.37c-.4-.4-.92-.59-1.43-.59-.52 0-1.04.2-1.43.59L10.3 9.45l-7.72 7.72c-.78.78-.78 2.05 0 2.83L4 21.41c.39.39.9.59 1.41.59.51 0 1.02-.2 1.41-.59l7.78-7.78 2.81-2.81c.8-.78.8-2.07 0-2.86zM5.41 20L4 18.59l7.72-7.72 1.47 1.35L5.41 20z\"/>\n",
              "  </svg>\n",
              "      </button>\n",
              "      \n",
              "  <style>\n",
              "    .colab-df-container {\n",
              "      display:flex;\n",
              "      flex-wrap:wrap;\n",
              "      gap: 12px;\n",
              "    }\n",
              "\n",
              "    .colab-df-convert {\n",
              "      background-color: #E8F0FE;\n",
              "      border: none;\n",
              "      border-radius: 50%;\n",
              "      cursor: pointer;\n",
              "      display: none;\n",
              "      fill: #1967D2;\n",
              "      height: 32px;\n",
              "      padding: 0 0 0 0;\n",
              "      width: 32px;\n",
              "    }\n",
              "\n",
              "    .colab-df-convert:hover {\n",
              "      background-color: #E2EBFA;\n",
              "      box-shadow: 0px 1px 2px rgba(60, 64, 67, 0.3), 0px 1px 3px 1px rgba(60, 64, 67, 0.15);\n",
              "      fill: #174EA6;\n",
              "    }\n",
              "\n",
              "    [theme=dark] .colab-df-convert {\n",
              "      background-color: #3B4455;\n",
              "      fill: #D2E3FC;\n",
              "    }\n",
              "\n",
              "    [theme=dark] .colab-df-convert:hover {\n",
              "      background-color: #434B5C;\n",
              "      box-shadow: 0px 1px 3px 1px rgba(0, 0, 0, 0.15);\n",
              "      filter: drop-shadow(0px 1px 2px rgba(0, 0, 0, 0.3));\n",
              "      fill: #FFFFFF;\n",
              "    }\n",
              "  </style>\n",
              "\n",
              "      <script>\n",
              "        const buttonEl =\n",
              "          document.querySelector('#df-f009d07e-74d1-4044-9645-b2a2c363903d button.colab-df-convert');\n",
              "        buttonEl.style.display =\n",
              "          google.colab.kernel.accessAllowed ? 'block' : 'none';\n",
              "\n",
              "        async function convertToInteractive(key) {\n",
              "          const element = document.querySelector('#df-f009d07e-74d1-4044-9645-b2a2c363903d');\n",
              "          const dataTable =\n",
              "            await google.colab.kernel.invokeFunction('convertToInteractive',\n",
              "                                                     [key], {});\n",
              "          if (!dataTable) return;\n",
              "\n",
              "          const docLinkHtml = 'Like what you see? Visit the ' +\n",
              "            '<a target=\"_blank\" href=https://colab.research.google.com/notebooks/data_table.ipynb>data table notebook</a>'\n",
              "            + ' to learn more about interactive tables.';\n",
              "          element.innerHTML = '';\n",
              "          dataTable['output_type'] = 'display_data';\n",
              "          await google.colab.output.renderOutput(dataTable, element);\n",
              "          const docLink = document.createElement('div');\n",
              "          docLink.innerHTML = docLinkHtml;\n",
              "          element.appendChild(docLink);\n",
              "        }\n",
              "      </script>\n",
              "    </div>\n",
              "  </div>\n",
              "  "
            ]
          },
          "metadata": {},
          "execution_count": 32
        }
      ]
    },
    {
      "cell_type": "code",
      "source": [
        "datatypes = bruteforce.dtypes\n",
        "\n",
        "datatypes"
      ],
      "metadata": {
        "colab": {
          "base_uri": "https://localhost:8080/"
        },
        "id": "oJk_1DlT-xBG",
        "outputId": "4371602c-6a77-4ae5-fc5e-4d0af716612b"
      },
      "execution_count": null,
      "outputs": [
        {
          "output_type": "execute_result",
          "data": {
            "text/plain": [
              "Flow Duration      int64\n",
              "Tot Fwd Pkts       int64\n",
              "Tot Bwd Pkts       int64\n",
              "TotLen Fwd Pkts    int64\n",
              "TotLen Bwd Pkts    int64\n",
              "                   ...  \n",
              "Idle Min           int64\n",
              "prot__0            uint8\n",
              "prot__6            uint8\n",
              "prot__17           uint8\n",
              "target             int64\n",
              "Length: 80, dtype: object"
            ]
          },
          "metadata": {},
          "execution_count": 41
        }
      ]
    },
    {
      "cell_type": "code",
      "source": [
        "bruteforce_new = bruteforce[np.isfinite(bruteforce).all(1)]"
      ],
      "metadata": {
        "id": "Lp4ax3JGBxuI"
      },
      "execution_count": null,
      "outputs": []
    },
    {
      "cell_type": "code",
      "source": [],
      "metadata": {
        "id": "0WKEDZoTBxnD"
      },
      "execution_count": null,
      "outputs": []
    },
    {
      "cell_type": "code",
      "source": [],
      "metadata": {
        "id": "12eeTrHX-w3z"
      },
      "execution_count": null,
      "outputs": []
    },
    {
      "cell_type": "code",
      "source": [],
      "metadata": {
        "id": "RwPC3Ipm-RUU"
      },
      "execution_count": null,
      "outputs": []
    },
    {
      "cell_type": "code",
      "source": [],
      "metadata": {
        "id": "Ej663uwC-RRI"
      },
      "execution_count": null,
      "outputs": []
    },
    {
      "cell_type": "code",
      "source": [],
      "metadata": {
        "id": "hQrp_V1C-RNr"
      },
      "execution_count": null,
      "outputs": []
    },
    {
      "cell_type": "code",
      "source": [],
      "metadata": {
        "id": "biWMSqTG-RHh"
      },
      "execution_count": null,
      "outputs": []
    },
    {
      "cell_type": "markdown",
      "source": [
        "## Visualizing Dataset after cleaning"
      ],
      "metadata": {
        "id": "wqfx18ICsNGH"
      }
    },
    {
      "cell_type": "code",
      "source": [
        "# Calculate sum of benign records across partitions\n",
        "benign_records = bruteforce_new[\"target\"].value_counts()[0]\n",
        "\n",
        "# Get the number of attack records in each parition after cleaning \n",
        "brute_force_attacks = bruteforce_new[\"target\"].value_counts()[1]\n",
        "\n",
        "org_distribution = pd.DataFrame({\"Attack Type\":[\"Benign\",\"Brute-Force\"],\n",
        "                             \"Records\":[benign_records, brute_force_attacks]})\n",
        "\n",
        "org_distribution[\"Percentage\"] = round(org_distribution[\"Records\"]/org_distribution[\"Records\"].sum()*100,3)\n",
        "\n",
        "org_distribution"
      ],
      "metadata": {
        "colab": {
          "base_uri": "https://localhost:8080/",
          "height": 112
        },
        "id": "AsMEw1j4qzl6",
        "outputId": "5cf94a94-1ce8-4256-90fd-c348becfc82e"
      },
      "execution_count": null,
      "outputs": [
        {
          "output_type": "execute_result",
          "data": {
            "text/plain": [
              "   Attack Type  Records  Percentage\n",
              "0       Benign   661847      80.859\n",
              "1  Brute-Force   156668      19.141"
            ],
            "text/html": [
              "\n",
              "  <div id=\"df-40646a90-780c-47e8-9b1f-9e91fd83f1d8\">\n",
              "    <div class=\"colab-df-container\">\n",
              "      <div>\n",
              "<style scoped>\n",
              "    .dataframe tbody tr th:only-of-type {\n",
              "        vertical-align: middle;\n",
              "    }\n",
              "\n",
              "    .dataframe tbody tr th {\n",
              "        vertical-align: top;\n",
              "    }\n",
              "\n",
              "    .dataframe thead th {\n",
              "        text-align: right;\n",
              "    }\n",
              "</style>\n",
              "<table border=\"1\" class=\"dataframe\">\n",
              "  <thead>\n",
              "    <tr style=\"text-align: right;\">\n",
              "      <th></th>\n",
              "      <th>Attack Type</th>\n",
              "      <th>Records</th>\n",
              "      <th>Percentage</th>\n",
              "    </tr>\n",
              "  </thead>\n",
              "  <tbody>\n",
              "    <tr>\n",
              "      <th>0</th>\n",
              "      <td>Benign</td>\n",
              "      <td>661847</td>\n",
              "      <td>80.859</td>\n",
              "    </tr>\n",
              "    <tr>\n",
              "      <th>1</th>\n",
              "      <td>Brute-Force</td>\n",
              "      <td>156668</td>\n",
              "      <td>19.141</td>\n",
              "    </tr>\n",
              "  </tbody>\n",
              "</table>\n",
              "</div>\n",
              "      <button class=\"colab-df-convert\" onclick=\"convertToInteractive('df-40646a90-780c-47e8-9b1f-9e91fd83f1d8')\"\n",
              "              title=\"Convert this dataframe to an interactive table.\"\n",
              "              style=\"display:none;\">\n",
              "        \n",
              "  <svg xmlns=\"http://www.w3.org/2000/svg\" height=\"24px\"viewBox=\"0 0 24 24\"\n",
              "       width=\"24px\">\n",
              "    <path d=\"M0 0h24v24H0V0z\" fill=\"none\"/>\n",
              "    <path d=\"M18.56 5.44l.94 2.06.94-2.06 2.06-.94-2.06-.94-.94-2.06-.94 2.06-2.06.94zm-11 1L8.5 8.5l.94-2.06 2.06-.94-2.06-.94L8.5 2.5l-.94 2.06-2.06.94zm10 10l.94 2.06.94-2.06 2.06-.94-2.06-.94-.94-2.06-.94 2.06-2.06.94z\"/><path d=\"M17.41 7.96l-1.37-1.37c-.4-.4-.92-.59-1.43-.59-.52 0-1.04.2-1.43.59L10.3 9.45l-7.72 7.72c-.78.78-.78 2.05 0 2.83L4 21.41c.39.39.9.59 1.41.59.51 0 1.02-.2 1.41-.59l7.78-7.78 2.81-2.81c.8-.78.8-2.07 0-2.86zM5.41 20L4 18.59l7.72-7.72 1.47 1.35L5.41 20z\"/>\n",
              "  </svg>\n",
              "      </button>\n",
              "      \n",
              "  <style>\n",
              "    .colab-df-container {\n",
              "      display:flex;\n",
              "      flex-wrap:wrap;\n",
              "      gap: 12px;\n",
              "    }\n",
              "\n",
              "    .colab-df-convert {\n",
              "      background-color: #E8F0FE;\n",
              "      border: none;\n",
              "      border-radius: 50%;\n",
              "      cursor: pointer;\n",
              "      display: none;\n",
              "      fill: #1967D2;\n",
              "      height: 32px;\n",
              "      padding: 0 0 0 0;\n",
              "      width: 32px;\n",
              "    }\n",
              "\n",
              "    .colab-df-convert:hover {\n",
              "      background-color: #E2EBFA;\n",
              "      box-shadow: 0px 1px 2px rgba(60, 64, 67, 0.3), 0px 1px 3px 1px rgba(60, 64, 67, 0.15);\n",
              "      fill: #174EA6;\n",
              "    }\n",
              "\n",
              "    [theme=dark] .colab-df-convert {\n",
              "      background-color: #3B4455;\n",
              "      fill: #D2E3FC;\n",
              "    }\n",
              "\n",
              "    [theme=dark] .colab-df-convert:hover {\n",
              "      background-color: #434B5C;\n",
              "      box-shadow: 0px 1px 3px 1px rgba(0, 0, 0, 0.15);\n",
              "      filter: drop-shadow(0px 1px 2px rgba(0, 0, 0, 0.3));\n",
              "      fill: #FFFFFF;\n",
              "    }\n",
              "  </style>\n",
              "\n",
              "      <script>\n",
              "        const buttonEl =\n",
              "          document.querySelector('#df-40646a90-780c-47e8-9b1f-9e91fd83f1d8 button.colab-df-convert');\n",
              "        buttonEl.style.display =\n",
              "          google.colab.kernel.accessAllowed ? 'block' : 'none';\n",
              "\n",
              "        async function convertToInteractive(key) {\n",
              "          const element = document.querySelector('#df-40646a90-780c-47e8-9b1f-9e91fd83f1d8');\n",
              "          const dataTable =\n",
              "            await google.colab.kernel.invokeFunction('convertToInteractive',\n",
              "                                                     [key], {});\n",
              "          if (!dataTable) return;\n",
              "\n",
              "          const docLinkHtml = 'Like what you see? Visit the ' +\n",
              "            '<a target=\"_blank\" href=https://colab.research.google.com/notebooks/data_table.ipynb>data table notebook</a>'\n",
              "            + ' to learn more about interactive tables.';\n",
              "          element.innerHTML = '';\n",
              "          dataTable['output_type'] = 'display_data';\n",
              "          await google.colab.output.renderOutput(dataTable, element);\n",
              "          const docLink = document.createElement('div');\n",
              "          docLink.innerHTML = docLinkHtml;\n",
              "          element.appendChild(docLink);\n",
              "        }\n",
              "      </script>\n",
              "    </div>\n",
              "  </div>\n",
              "  "
            ]
          },
          "metadata": {},
          "execution_count": 44
        }
      ]
    },
    {
      "cell_type": "markdown",
      "source": [
        "# Handling Data Imbalance\n",
        "\n",
        "From the above data we can see that the dataset is highly imbalanced and this can affect the results of our training.\n",
        "\n",
        "For the undersampling dataset we will balance classes by selecting records of each class equal to the number of classes in the class which appears the least. We will also choose a number of benign classes from each day equal to the proportion of total benign classes they represented in the original dataset.\n",
        "\n",
        "num_ben_in_one_class / total_number_of_benign_classes_in_original_data_set"
      ],
      "metadata": {
        "id": "ZDhLirWAsnhV"
      }
    },
    {
      "cell_type": "code",
      "source": [
        "bruteforce_sample = bruteforce_new.loc[bruteforce[\"target\"]==1].sample(n=156668).copy()"
      ],
      "metadata": {
        "id": "cqWXcPQ6qzi0"
      },
      "execution_count": null,
      "outputs": []
    },
    {
      "cell_type": "code",
      "source": [
        "bruteforce_benign = bruteforce_new.loc[bruteforce[\"target\"]==0].copy()"
      ],
      "metadata": {
        "id": "vKQWp6ZSoaVU"
      },
      "execution_count": null,
      "outputs": []
    },
    {
      "cell_type": "code",
      "source": [
        "total_benign = len(bruteforce_benign)"
      ],
      "metadata": {
        "id": "Vp_w-jYZoaSY"
      },
      "execution_count": null,
      "outputs": []
    },
    {
      "cell_type": "code",
      "source": [
        "bruteforce_ratio = len(bruteforce_benign)/total_benign"
      ],
      "metadata": {
        "id": "01r2H2N-tw1f"
      },
      "execution_count": null,
      "outputs": []
    },
    {
      "cell_type": "code",
      "source": [
        "bruteforce_benign = bruteforce_benign.sample(n = int(bruteforce_ratio*156668))"
      ],
      "metadata": {
        "id": "IqV5mPDEtwy5"
      },
      "execution_count": null,
      "outputs": []
    },
    {
      "cell_type": "code",
      "source": [
        "# To check if the combination has resulted in the correct number of benign class instances\n",
        "len(bruteforce_benign)"
      ],
      "metadata": {
        "colab": {
          "base_uri": "https://localhost:8080/"
        },
        "id": "eeOid-7QtwwS",
        "outputId": "2ca8c582-8a76-4d86-e0f2-ff560929b4e7"
      },
      "execution_count": null,
      "outputs": [
        {
          "output_type": "execute_result",
          "data": {
            "text/plain": [
              "156668"
            ]
          },
          "metadata": {},
          "execution_count": 50
        }
      ]
    },
    {
      "cell_type": "code",
      "source": [
        "benign_sample = pd.concat([bruteforce_benign],axis=0)"
      ],
      "metadata": {
        "id": "vnx6UXQCtwtm"
      },
      "execution_count": null,
      "outputs": []
    },
    {
      "cell_type": "markdown",
      "source": [
        "### Creating our undersampled dataset\n",
        "\n",
        "This helps to balance the disparities in the dataset."
      ],
      "metadata": {
        "id": "gFkYGSwUuff6"
      }
    },
    {
      "cell_type": "code",
      "source": [
        "undersampled_dataset = pd.concat([benign_sample,bruteforce_sample],axis=0).sample(frac = 1)"
      ],
      "metadata": {
        "id": "kB4112HStwrf"
      },
      "execution_count": null,
      "outputs": []
    },
    {
      "cell_type": "code",
      "source": [
        "new_distribtuion = pd.DataFrame({'Attack Type':[\"Benign\",\"Brute-Force\"],\n",
        "                                 'Records': undersampled_dataset['target'].value_counts().sort_index().values})\n",
        "\n",
        "new_distribtuion[\"Percentage\"] = round(new_distribtuion[\"Records\"]/new_distribtuion[\"Records\"].sum()*100,3)\n",
        "new_distribtuion"
      ],
      "metadata": {
        "colab": {
          "base_uri": "https://localhost:8080/",
          "height": 112
        },
        "id": "1guLz0RAuvc-",
        "outputId": "f797067d-2e24-44f3-ee05-f73178e75d2a"
      },
      "execution_count": null,
      "outputs": [
        {
          "output_type": "execute_result",
          "data": {
            "text/plain": [
              "   Attack Type  Records  Percentage\n",
              "0       Benign   156668        50.0\n",
              "1  Brute-Force   156668        50.0"
            ],
            "text/html": [
              "\n",
              "  <div id=\"df-cb277964-eb36-4773-b1fa-1dac974b3d2b\">\n",
              "    <div class=\"colab-df-container\">\n",
              "      <div>\n",
              "<style scoped>\n",
              "    .dataframe tbody tr th:only-of-type {\n",
              "        vertical-align: middle;\n",
              "    }\n",
              "\n",
              "    .dataframe tbody tr th {\n",
              "        vertical-align: top;\n",
              "    }\n",
              "\n",
              "    .dataframe thead th {\n",
              "        text-align: right;\n",
              "    }\n",
              "</style>\n",
              "<table border=\"1\" class=\"dataframe\">\n",
              "  <thead>\n",
              "    <tr style=\"text-align: right;\">\n",
              "      <th></th>\n",
              "      <th>Attack Type</th>\n",
              "      <th>Records</th>\n",
              "      <th>Percentage</th>\n",
              "    </tr>\n",
              "  </thead>\n",
              "  <tbody>\n",
              "    <tr>\n",
              "      <th>0</th>\n",
              "      <td>Benign</td>\n",
              "      <td>156668</td>\n",
              "      <td>50.0</td>\n",
              "    </tr>\n",
              "    <tr>\n",
              "      <th>1</th>\n",
              "      <td>Brute-Force</td>\n",
              "      <td>156668</td>\n",
              "      <td>50.0</td>\n",
              "    </tr>\n",
              "  </tbody>\n",
              "</table>\n",
              "</div>\n",
              "      <button class=\"colab-df-convert\" onclick=\"convertToInteractive('df-cb277964-eb36-4773-b1fa-1dac974b3d2b')\"\n",
              "              title=\"Convert this dataframe to an interactive table.\"\n",
              "              style=\"display:none;\">\n",
              "        \n",
              "  <svg xmlns=\"http://www.w3.org/2000/svg\" height=\"24px\"viewBox=\"0 0 24 24\"\n",
              "       width=\"24px\">\n",
              "    <path d=\"M0 0h24v24H0V0z\" fill=\"none\"/>\n",
              "    <path d=\"M18.56 5.44l.94 2.06.94-2.06 2.06-.94-2.06-.94-.94-2.06-.94 2.06-2.06.94zm-11 1L8.5 8.5l.94-2.06 2.06-.94-2.06-.94L8.5 2.5l-.94 2.06-2.06.94zm10 10l.94 2.06.94-2.06 2.06-.94-2.06-.94-.94-2.06-.94 2.06-2.06.94z\"/><path d=\"M17.41 7.96l-1.37-1.37c-.4-.4-.92-.59-1.43-.59-.52 0-1.04.2-1.43.59L10.3 9.45l-7.72 7.72c-.78.78-.78 2.05 0 2.83L4 21.41c.39.39.9.59 1.41.59.51 0 1.02-.2 1.41-.59l7.78-7.78 2.81-2.81c.8-.78.8-2.07 0-2.86zM5.41 20L4 18.59l7.72-7.72 1.47 1.35L5.41 20z\"/>\n",
              "  </svg>\n",
              "      </button>\n",
              "      \n",
              "  <style>\n",
              "    .colab-df-container {\n",
              "      display:flex;\n",
              "      flex-wrap:wrap;\n",
              "      gap: 12px;\n",
              "    }\n",
              "\n",
              "    .colab-df-convert {\n",
              "      background-color: #E8F0FE;\n",
              "      border: none;\n",
              "      border-radius: 50%;\n",
              "      cursor: pointer;\n",
              "      display: none;\n",
              "      fill: #1967D2;\n",
              "      height: 32px;\n",
              "      padding: 0 0 0 0;\n",
              "      width: 32px;\n",
              "    }\n",
              "\n",
              "    .colab-df-convert:hover {\n",
              "      background-color: #E2EBFA;\n",
              "      box-shadow: 0px 1px 2px rgba(60, 64, 67, 0.3), 0px 1px 3px 1px rgba(60, 64, 67, 0.15);\n",
              "      fill: #174EA6;\n",
              "    }\n",
              "\n",
              "    [theme=dark] .colab-df-convert {\n",
              "      background-color: #3B4455;\n",
              "      fill: #D2E3FC;\n",
              "    }\n",
              "\n",
              "    [theme=dark] .colab-df-convert:hover {\n",
              "      background-color: #434B5C;\n",
              "      box-shadow: 0px 1px 3px 1px rgba(0, 0, 0, 0.15);\n",
              "      filter: drop-shadow(0px 1px 2px rgba(0, 0, 0, 0.3));\n",
              "      fill: #FFFFFF;\n",
              "    }\n",
              "  </style>\n",
              "\n",
              "      <script>\n",
              "        const buttonEl =\n",
              "          document.querySelector('#df-cb277964-eb36-4773-b1fa-1dac974b3d2b button.colab-df-convert');\n",
              "        buttonEl.style.display =\n",
              "          google.colab.kernel.accessAllowed ? 'block' : 'none';\n",
              "\n",
              "        async function convertToInteractive(key) {\n",
              "          const element = document.querySelector('#df-cb277964-eb36-4773-b1fa-1dac974b3d2b');\n",
              "          const dataTable =\n",
              "            await google.colab.kernel.invokeFunction('convertToInteractive',\n",
              "                                                     [key], {});\n",
              "          if (!dataTable) return;\n",
              "\n",
              "          const docLinkHtml = 'Like what you see? Visit the ' +\n",
              "            '<a target=\"_blank\" href=https://colab.research.google.com/notebooks/data_table.ipynb>data table notebook</a>'\n",
              "            + ' to learn more about interactive tables.';\n",
              "          element.innerHTML = '';\n",
              "          dataTable['output_type'] = 'display_data';\n",
              "          await google.colab.output.renderOutput(dataTable, element);\n",
              "          const docLink = document.createElement('div');\n",
              "          docLink.innerHTML = docLinkHtml;\n",
              "          element.appendChild(docLink);\n",
              "        }\n",
              "      </script>\n",
              "    </div>\n",
              "  </div>\n",
              "  "
            ]
          },
          "metadata": {},
          "execution_count": 53
        }
      ]
    },
    {
      "cell_type": "markdown",
      "source": [
        "The new dataset now contains a balanced record of both benign and bruteforce attacks"
      ],
      "metadata": {
        "id": "JCGITFdYu4dB"
      }
    },
    {
      "cell_type": "code",
      "source": [
        "fig,ax = plt.subplots(nrows=1,ncols=2, figsize=(15,6),dpi=500)\n",
        "\n",
        "sns.barplot(x=\"Attack Type\", y = 'Percentage', data = org_distribution, palette='Blues_d', ax=ax[0])\n",
        "sns.barplot(x=\"Attack Type\", y = 'Percentage', data = new_distribtuion, palette='Blues_d', ax=ax[1])\n",
        "\n",
        "ax[0].set_title(\"CSE-CIC-IDS2018 Class Distribution\")\n",
        "ax[1].set_title(\"CSE-CIC-IDS2018 Class Distribution with Undersampling\")\n",
        "ax[0].set_xlabel(\"\")\n",
        "\n",
        "ax[1].set_xlabel(\"\")\n",
        "ax[1].set_ylabel(\"\")\n",
        "plt.savefig('dist1.png')\n",
        "plt.show()"
      ],
      "metadata": {
        "colab": {
          "base_uri": "https://localhost:8080/",
          "height": 619
        },
        "id": "_P7dt8ZDuvZj",
        "outputId": "d96f0cf5-b2a2-44aa-c193-1f991328317a"
      },
      "execution_count": null,
      "outputs": [
        {
          "output_type": "display_data",
          "data": {
            "text/plain": [
              "<Figure size 7500x3000 with 2 Axes>"
            ],
            "image/png": "[encoded data removed]"
          },
          "metadata": {
            "needs_background": "light"
          }
        }
      ]
    },
    {
      "cell_type": "code",
      "source": [
        "# Creating the new undersampled dataset.\n",
        "undersampled_dataset.to_csv(\"/content/data/undersampled_cic.csv\", index=False)"
      ],
      "metadata": {
        "id": "98DKbFMPuvRP"
      },
      "execution_count": null,
      "outputs": []
    },
    {
      "cell_type": "code",
      "source": [
        "# Loading the new dataset\n",
        "data = pd.read_csv(\"/content/data/undersampled_cic.csv\")\n",
        "cic_X = data.drop(\"target\",axis=1).values\n",
        "cic_y = data[\"target\"].values\n",
        "\n",
        "print(cic_X.shape[0], 'records',cic_X.shape[1],'features')"
      ],
      "metadata": {
        "colab": {
          "base_uri": "https://localhost:8080/"
        },
        "id": "1sjm1NyKuvNZ",
        "outputId": "ceba7ea8-1f76-466f-fcbd-9dbe3fcb27df"
      },
      "execution_count": null,
      "outputs": [
        {
          "output_type": "stream",
          "name": "stdout",
          "text": [
            "313336 records 79 features\n"
          ]
        }
      ]
    },
    {
      "cell_type": "code",
      "source": [],
      "metadata": {
        "id": "CSl9HBJLoaH4"
      },
      "execution_count": null,
      "outputs": []
    },
    {
      "cell_type": "markdown",
      "source": [
        "# Model Building"
      ],
      "metadata": {
        "id": "U4vR84iRoU6L"
      }
    },
    {
      "cell_type": "code",
      "source": [
        "#@title Creating the Models we need\n",
        "import numpy as np\n",
        "import pandas as pd \n",
        "import matplotlib.pyplot as plt \n",
        "import seaborn as sns\n",
        "\n",
        "from sklearn.model_selection import train_test_split\n",
        "from sklearn.preprocessing import MinMaxScaler\n",
        "from sklearn import metrics\n",
        "from sklearn import svm \n",
        "\n",
        "import tensorflow as tf\n",
        "from tensorflow.keras.models import Sequential \n",
        "from tensorflow.keras import regularizers\n",
        "from tensorflow.keras.layers import Dense, Dropout, BatchNormalization, Conv2D, MaxPool2D, Flatten, SimpleRNN, LSTM, TimeDistributed\n",
        "from tensorflow.keras.callbacks import EarlyStopping \n",
        "from tensorflow.keras.utils import plot_model\n",
        "from keras.layers import CuDNNLSTM\n",
        "\n",
        "from timeit import timeit"
      ],
      "metadata": {
        "id": "njGvCIAclxWq"
      },
      "execution_count": null,
      "outputs": []
    },
    {
      "cell_type": "code",
      "source": [
        "tf.random.set_seed(42)\n",
        "np.random.seed(42)\n"
      ],
      "metadata": {
        "id": "QDpMyMoJmfY3"
      },
      "execution_count": null,
      "outputs": []
    },
    {
      "cell_type": "code",
      "source": [
        "#@title SVM model\n",
        "class SVM:\n",
        "    def __init__(self, X, y, split, ae= False, ae_dim =0, ae_train_perc = 0.25):\n",
        "        self.split = split \n",
        "        self.ae = ae \n",
        "        self.ae_dim = ae_dim\n",
        "        self.ae_train_perc = ae_train_perc\n",
        "        \n",
        "        # For CSE-CIC-IDS2018 \n",
        "        if self.split:\n",
        "            self.X = X \n",
        "            self.y = y\n",
        "        else: \n",
        "            self.X_train, self.X_test = X\n",
        "            self.y_train, self.y_test = y \n",
        "            \n",
        "    def preprocess_data(self):\n",
        "        \n",
        "        if self.split:\n",
        "            # Split data into train and test split \n",
        "            X_train, X_test, y_train, y_test = train_test_split(self.X, self.y, test_size=0.3, stratify = self.y)\n",
        "        else:\n",
        "            X_train, X_test, y_train, y_test = self.X_train, self.X_test, self.y_train, self.y_test\n",
        "        \n",
        "        min_max_scaler = MinMaxScaler()\n",
        "        X_train = min_max_scaler.fit_transform(X_train)\n",
        "        X_test = min_max_scaler.transform(X_test)\n",
        "        \n",
        "        if self.ae: \n",
        "            _ , X_val = train_test_split(X_train, test_size=self.ae_train_perc, random_state=42)\n",
        "            \n",
        "            encoder = Sequential()\n",
        "            encoder.add(Dense(self.ae_dim, activation='relu',input_shape=[X_val.shape[1]]))\n",
        "\n",
        "            decoder = Sequential()\n",
        "            decoder.add(Dense(X_val.shape[1], activation='relu', input_shape=[self.ae_dim], activity_regularizer=regularizers.l1(0.2))) # sparsity parameter\n",
        "\n",
        "            autoencoder = Sequential([encoder,decoder])\n",
        "            autoencoder.compile(loss='mse',optimizer = 'adam')\n",
        "\n",
        "            early_stop = EarlyStopping(monitor='loss', mode = 'auto', \n",
        "                                       patience = 5 , verbose =0, restore_best_weights=True)\n",
        "\n",
        "            autoencoder.fit(X_val, X_val, epochs=40, batch_size=256,verbose=0, callbacks=[early_stop])\n",
        "\n",
        "            X_train = encoder.predict(X_train)\n",
        "            X_test = encoder.predict(X_test)\n",
        "        \n",
        "        return X_train, X_test, y_train, y_test\n",
        "        \n",
        "    def evaluate(self, runs):\n",
        "        results = pd.DataFrame(columns=[\"acc\",\"prec\",\"rec\",\"f1\",\"far\"])\n",
        "        reports = []    \n",
        "        \n",
        "        for i in range(runs):\n",
        "            X_train, X_test, y_train, y_test = self.preprocess_data()\n",
        "\n",
        "            model = svm.SVC()\n",
        "            model.fit(X_train,y_train)\n",
        "\n",
        "            y_pred = model.predict(X_test)\n",
        "\n",
        "            acc = metrics.accuracy_score(y_test,y_pred)\n",
        "            prec = metrics.precision_score(y_test,y_pred,average='weighted')\n",
        "            rec = metrics.recall_score(y_test,y_pred,average='weighted')\n",
        "            f1 = metrics.f1_score(y_test,y_pred,average='weighted')\n",
        "            \n",
        "            confusion_matrix = metrics.confusion_matrix(y_test,y_pred)\n",
        "            FP = confusion_matrix.sum(axis=0) - np.diag(confusion_matrix)  \n",
        "            FN = confusion_matrix.sum(axis=1) - np.diag(confusion_matrix)\n",
        "            TP = np.diag(confusion_matrix)\n",
        "            TN = confusion_matrix.sum() - (FP + FN + TP)\n",
        "            FAR = FP/(FP+TN)\n",
        "            \n",
        "            model_results = {'acc':acc, 'prec':prec, 'rec':rec, 'f1':f1,'far':FAR.mean()}\n",
        "            results = results.append(model_results, ignore_index= True)\n",
        "            print(f\"Model {i} Acc:\", acc)\n",
        "            \n",
        "            report = pd.DataFrame(metrics.classification_report(y_test,y_pred,output_dict=True)).transpose()\n",
        "            reports.append(report)\n",
        "            \n",
        "        self.acc = results.mean()[0], results.std()[0]\n",
        "        self.prec = results.mean()[1], results.std()[1]\n",
        "        self.rec = results.mean()[2], results.std()[2]\n",
        "        self.f1 = results.mean()[3], results.std()[3]\n",
        "        self.far = results.mean()[4], results.std()[4]\n",
        "        self.report = pd.concat(reports).groupby(level=0).mean()  "
      ],
      "metadata": {
        "id": "9o2nrXrOmfWQ"
      },
      "execution_count": null,
      "outputs": []
    },
    {
      "cell_type": "code",
      "source": [
        "#@title Deep Neural Network\n",
        "class DNN:\n",
        "    def __init__(self, X, y, split, ae= False, ae_dim =0 , ae_train_perc = 0.25):\n",
        "        self.split = split \n",
        "        self.ae = ae \n",
        "        self.ae_dim = ae_dim\n",
        "        self.ae_train_perc = ae_train_perc\n",
        "        \n",
        "        # For CSE-CIC-IDS2018 \n",
        "        if self.split:\n",
        "            self.X = X \n",
        "            self.y = y\n",
        "        else: \n",
        "            self.X_train, self.X_test = X\n",
        "            self.y_train, self.y_test = y \n",
        "            \n",
        "        \n",
        "    def preprocess_data(self):\n",
        "        if self.split:\n",
        "            # Split data into train and test split \n",
        "            X_train, X_test, y_train, y_test = train_test_split(self.X, self.y, test_size=0.3, stratify = self.y)\n",
        "        else:\n",
        "            X_train, X_test, y_train, y_test = self.X_train, self.X_test, self.y_train, self.y_test\n",
        "            \n",
        "        # Scale Data \n",
        "        min_max_scaler = MinMaxScaler()\n",
        "        X_train = min_max_scaler.fit_transform(X_train)\n",
        "        X_test = min_max_scaler.transform(X_test)\n",
        "        \n",
        "        # Encode Labels\n",
        "        y_train = pd.get_dummies(y_train).values\n",
        "        y_test = pd.get_dummies(y_test).values\n",
        "        \n",
        "        # Use Auto Encoder to perform dimensionality reduction \n",
        "        if self.ae: \n",
        "            _ , X_val = train_test_split(X_train, test_size=self.ae_train_perc, random_state=42)\n",
        "            \n",
        "            encoder = Sequential()\n",
        "            encoder.add(Dense(self.ae_dim, activation='relu',input_shape=[X_val.shape[1]]))\n",
        "\n",
        "            decoder = Sequential()\n",
        "            decoder.add(Dense(X_val.shape[1], activation='relu', input_shape=[self.ae_dim]))\n",
        "\n",
        "            autoencoder = Sequential([encoder,decoder])\n",
        "            autoencoder.compile(loss='mse',optimizer = 'adam')\n",
        "\n",
        "            early_stop = EarlyStopping(monitor='loss', mode = 'auto', \n",
        "                                       patience = 5 , verbose =0, restore_best_weights=True)\n",
        "\n",
        "            autoencoder.fit(X_val, X_val, epochs=40, batch_size=256,verbose=0, callbacks=[early_stop])\n",
        "\n",
        "            X_train = encoder.predict(X_train)\n",
        "            X_test = encoder.predict(X_test)\n",
        "        \n",
        "        return X_train, y_train, X_test, y_test\n",
        "        \n",
        "    def build_model(self, hidden_layers):\n",
        "        \n",
        "        # Split data into training and testing set, scale it and encode labels \n",
        "        X_train, y_train, X_test, y_test = self.preprocess_data()\n",
        "        \n",
        "        # Further divide Data into training and validation data\n",
        "        X_train, X_val, y_train, y_val = train_test_split(X_train, y_train, test_size=0.2, random_state=42)\n",
        "        \n",
        "        model = Sequential()\n",
        "        \n",
        "        for layer in hidden_layers:\n",
        "            model.add(Dense(layer, activation='relu'))\n",
        "            model.add(BatchNormalization())\n",
        "            model.add(Dropout(0.2))\n",
        "\n",
        "        model.add(Dense(y_train.shape[1], activation = 'softmax'))\n",
        "        model.compile(loss='categorical_crossentropy', optimizer='adam')\n",
        "        \n",
        "        early_stop = EarlyStopping(monitor='val_loss', mode = 'auto', \n",
        "                                   patience = 5 , verbose =0, restore_best_weights=True)\n",
        "        \n",
        "        model.fit(x = X_train, y = y_train, epochs = 200, batch_size = 256, verbose = 0,\n",
        "                   validation_data = (X_val,y_val),callbacks = [early_stop])\n",
        "        \n",
        "        return model, X_test, y_test\n",
        "    \n",
        "    def evaluate_model(self, runs, hidden_layers, time=False):\n",
        "        results = pd.DataFrame(columns=[\"acc\",\"prec\",\"rec\",\"f1\",\"far\",\"Train Time\",\"Test Time\"])\n",
        "        reports = []\n",
        "        \n",
        "        # Train and evaluate model \n",
        "        for i in range(runs):\n",
        "            print(f\"Training Model {i} ...\")\n",
        "            \n",
        "            if time:\n",
        "                training_time = timeit(lambda: self.build_model(hidden_layers), number = 1)\n",
        "            else:\n",
        "                training_time= np.nan\n",
        "                \n",
        "            model, X_test, y_test = self.build_model(hidden_layers)\n",
        "            \n",
        "            print(f\"Evaluating Model {i} ...\")\n",
        "            if time:\n",
        "                testing_time = timeit(lambda: model.predict(X_test), number = 1)\n",
        "            else:\n",
        "                testing_time = np.nan\n",
        "      \n",
        "            y_pred = np.argmax(model.predict(X_test), axis=-1)\n",
        "            y_org = np.argmax(y_test,axis=1)\n",
        "            \n",
        "            acc = metrics.accuracy_score(y_org,y_pred)\n",
        "            prec = metrics.precision_score(y_org,y_pred,average='weighted')\n",
        "            rec = metrics.recall_score(y_org,y_pred,average='weighted')\n",
        "            f1 = metrics.f1_score(y_org,y_pred,average='weighted')\n",
        "            \n",
        "            confusion_matrix = metrics.confusion_matrix(y_org,y_pred)\n",
        "            FP = confusion_matrix.sum(axis=0) - np.diag(confusion_matrix)  \n",
        "            FN = confusion_matrix.sum(axis=1) - np.diag(confusion_matrix)\n",
        "            TP = np.diag(confusion_matrix)\n",
        "            TN = confusion_matrix.sum() - (FP + FN + TP)\n",
        "            FAR = FP/(FP+TN)\n",
        "            \n",
        "            model_results = {'acc':acc, 'prec':prec, 'rec':rec, 'f1':f1,'far':FAR.mean(),\n",
        "                             'Train Time':training_time,'Test Time':testing_time}\n",
        "            results = results.append(model_results, ignore_index= True)\n",
        "            print(f\"Model {i} Acc:\", acc)\n",
        "            \n",
        "            # Creation of a classification report which is useful for examining per class metrics\n",
        "            report = pd.DataFrame(metrics.classification_report(y_org,y_pred,output_dict=True)).transpose()\n",
        "            reports.append(report)\n",
        "        \n",
        "        self.acc = results.mean()[0], results.std()[0]\n",
        "        self.prec = results.mean()[1], results.std()[1]\n",
        "        self.rec = results.mean()[2], results.std()[2]\n",
        "        self.f1 = results.mean()[3], results.std()[3]\n",
        "        self.far = results.mean()[4], results.std()[4]\n",
        "        self.train_time = results.mean()[5], results.std()[5]\n",
        "        self.test_time = results.mean()[6], results.std()[6]\n",
        "        self.report = pd.concat(reports).groupby(level=0).mean()"
      ],
      "metadata": {
        "id": "leqPGIFqmfTf"
      },
      "execution_count": null,
      "outputs": []
    },
    {
      "cell_type": "code",
      "source": [
        "#@title Convoluted Neural Network Model\n",
        "class CNN:\n",
        "    def __init__(self, X, y, split, image_dim, ae= False, ae_dim =0, ae_train_perc = 0.25):\n",
        "        self.split = split \n",
        "        self.ae = ae \n",
        "        self.ae_dim = ae_dim\n",
        "        self.image_dim = image_dim\n",
        "        self.ae_train_perc = ae_train_perc\n",
        "        \n",
        "        # For CSE-CIC-IDS2018 \n",
        "        if self.split:\n",
        "            # Add two extra features for 2D image inputs \n",
        "            a = np.zeros((len(X),1))\n",
        "            b = np.zeros((len(X),1))\n",
        "            self.X = np.hstack((X,a,b))\n",
        "            self.y = y\n",
        "        else: \n",
        "            self.X_train, self.X_test = X\n",
        "            self.y_train, self.y_test = y \n",
        "            \n",
        "    def preprocess_data(self):\n",
        "        \n",
        "        if self.split:\n",
        "            # Split data into train and test split \n",
        "            X_train, X_test, y_train, y_test = train_test_split(self.X, self.y, test_size=0.3, stratify = self.y)\n",
        "        else:\n",
        "            X_train, X_test, y_train, y_test = self.X_train, self.X_test, self.y_train, self.y_test\n",
        "\n",
        "        # Scale Data \n",
        "        min_max_scaler = MinMaxScaler()\n",
        "        X_train = min_max_scaler.fit_transform(X_train)\n",
        "        X_test = min_max_scaler.transform(X_test)\n",
        "\n",
        "        # Encode Labels\n",
        "        y_train = pd.get_dummies(y_train).values\n",
        "        y_test = pd.get_dummies(y_test).values\n",
        "\n",
        "        # Use Auto Encoder to perform dimensionality reduction \n",
        "        if self.ae: \n",
        "            _ , X_val = train_test_split(X_train, test_size=self.ae_train_perc, random_state=42)\n",
        "            \n",
        "            encoder = Sequential()\n",
        "            encoder.add(Dense(self.ae_dim, activation='relu',input_shape=[X_val.shape[1]]))\n",
        "\n",
        "            decoder = Sequential()\n",
        "            decoder.add(Dense(X_val.shape[1], activation='relu', input_shape=[self.ae_dim]))\n",
        "\n",
        "            autoencoder = Sequential([encoder,decoder])\n",
        "            autoencoder.compile(loss='mse',optimizer = 'adam')\n",
        "\n",
        "            early_stop = EarlyStopping(monitor='loss', mode = 'auto', \n",
        "                                       patience = 5 , verbose =0, restore_best_weights=True)\n",
        "\n",
        "            autoencoder.fit(X_val, X_val, epochs=40, batch_size=256,verbose=0, callbacks=[early_stop])\n",
        "\n",
        "            X_train = encoder.predict(X_train)\n",
        "            X_test = encoder.predict(X_test)\n",
        "\n",
        "        # Reshape the data into 2D input arrays\n",
        "        X_train = X_train.reshape(len(X_train), self.image_dim, self.image_dim,1)\n",
        "        X_test = X_test.reshape(len(X_test), self.image_dim, self.image_dim,1) \n",
        "\n",
        "        return X_train, y_train, X_test, y_test\n",
        "        \n",
        "    def display_class_image(self, classes):\n",
        "        X_train, y_train, X_test, y_test = self.preprocess_data()\n",
        "        y_train_ser = pd.Series(np.argmax(y_train,axis=1))\n",
        "        fig, axs = plt.subplots(nrows =1 , ncols = (len(classes)), figsize= (15,6))\n",
        "        for c in classes.keys():\n",
        "            X_image = X_train[y_train_ser[y_train_ser==c].index[0]]\n",
        "            axs[c].imshow(X_image[:,:,0], cmap='gray')\n",
        "            axs[c].set_title(classes[c])\n",
        "            axs[c].axis('off')\n",
        "        plt.show()\n",
        "        \n",
        "    def build_model(self):\n",
        "        \n",
        "        # Split data into training and testing set, scale it and encode labels \n",
        "        X_train, y_train, X_test, y_test = self.preprocess_data()\n",
        "    \n",
        "        # Further divide Data into training and validation data\n",
        "        X_train, X_val, y_train, y_val = train_test_split(X_train, y_train, test_size=0.2, stratify= y_train)\n",
        "\n",
        "        model = Sequential()\n",
        "\n",
        "        model.add(Conv2D(filters=32, kernel_size=(2,2), input_shape=(self.image_dim,self.image_dim,1), padding = 'same', activation='relu'))\n",
        "        model.add(BatchNormalization())\n",
        "        \n",
        "        model.add(MaxPool2D(pool_size=(2, 2)))\n",
        "\n",
        "        \n",
        "        model.add(Conv2D(filters=16, kernel_size=(2,2), padding = 'same', activation='relu'))\n",
        "        model.add(MaxPool2D(pool_size=(2, 2)))\n",
        "        \n",
        "        model.add(Flatten())\n",
        "        \n",
        "        model.add(Dense(64,activation='relu'))\n",
        "        model.add(Dropout(0.2))\n",
        "        \n",
        "        model.add(Dense(y_train.shape[1],activation = \"softmax\"))\n",
        "\n",
        "        model.compile(loss=\"categorical_crossentropy\", optimizer = 'adam')\n",
        "        \n",
        "        early_stop = EarlyStopping(monitor='val_loss', mode = 'auto', \n",
        "                                   patience = 5 , verbose = 0, restore_best_weights=True)\n",
        "        \n",
        "        model.fit(x = X_train, y = y_train, epochs = 100, batch_size = 256, verbose = 0, \n",
        "                  callbacks = [early_stop], validation_data = (X_val,y_val))\n",
        "        \n",
        "        return model, X_test, y_test\n",
        "        \n",
        " \n",
        "    def evaluate_model(self, runs, time=False):\n",
        "        results = pd.DataFrame(columns=[\"acc\",\"prec\",\"rec\",\"f1\",\"far\",\"Train Time\",\"Test Time\"])\n",
        "        reports = []\n",
        "        \n",
        "        # Train and evaluate model \n",
        "        for i in range(runs):\n",
        "            \n",
        "            print(f\"Training Model {i} ...\")\n",
        "            \n",
        "            if time:\n",
        "                training_time = timeit(lambda: self.build_model(), number = 1)\n",
        "            else:   \n",
        "                training_time= np.nan \n",
        "            model, X_test, y_test = self.build_model()\n",
        "            \n",
        "            print(f\"Evaluating Model {i} ...\")\n",
        "            \n",
        "            if time:\n",
        "                  testing_time = timeit(lambda: model.predict(X_test), number = 1)\n",
        "            else:        \n",
        "                testing_time = np.nan\n",
        "                \n",
        "            y_pred = np.argmax(model.predict(X_test), axis=-1)\n",
        "            y_org = np.argmax(y_test,axis=1)\n",
        "            \n",
        "            acc = metrics.accuracy_score(y_org,y_pred)\n",
        "            prec = metrics.precision_score(y_org,y_pred,average='weighted')\n",
        "            rec = metrics.recall_score(y_org,y_pred,average='weighted')\n",
        "            f1 = metrics.f1_score(y_org,y_pred,average='weighted')\n",
        "            \n",
        "            confusion_matrix = metrics.confusion_matrix(y_org,y_pred)\n",
        "            FP = confusion_matrix.sum(axis=0) - np.diag(confusion_matrix)  \n",
        "            FN = confusion_matrix.sum(axis=1) - np.diag(confusion_matrix)\n",
        "            TP = np.diag(confusion_matrix)\n",
        "            TN = confusion_matrix.sum() - (FP + FN + TP)\n",
        "            FAR = FP/(FP+TN)\n",
        "            \n",
        "            model_results = {'acc':acc, 'prec':prec, 'rec':rec, 'f1':f1,'far':FAR.mean(),\n",
        "                             'Train Time':training_time,'Test Time':testing_time}\n",
        "            results = results.append(model_results, ignore_index= True)\n",
        "            print(f\"Model {i} Acc:\", acc)\n",
        "            \n",
        "            # Creation of a classification report which is useful for examining per class metrics\n",
        "            report = pd.DataFrame(metrics.classification_report(y_org,y_pred,output_dict=True)).transpose()\n",
        "            reports.append(report)\n",
        "        \n",
        "        self.acc = results.mean()[0], results.std()[0]\n",
        "        self.prec = results.mean()[1], results.std()[1]\n",
        "        self.rec = results.mean()[2], results.std()[2]\n",
        "        self.f1 = results.mean()[3], results.std()[3]\n",
        "        self.far = results.mean()[4], results.std()[4]\n",
        "        self.train_time = results.mean()[5], results.std()[5]\n",
        "        self.test_time = results.mean()[6], results.std()[6]\n",
        "        self.report = pd.concat(reports).groupby(level=0).mean()"
      ],
      "metadata": {
        "id": "6li6j61LmfQp"
      },
      "execution_count": null,
      "outputs": []
    },
    {
      "cell_type": "code",
      "source": [
        "#@title LSTM model\n",
        "class RNN_LSTM:\n",
        "    def __init__(self, X, y, split, num_of_classes, ae= False, ae_dim =0, ae_train_perc = 0.25):\n",
        "        self.split = split \n",
        "        self.ae = ae \n",
        "        self.ae_dim = ae_dim\n",
        "        self.num_of_classes = num_of_classes\n",
        "        self.ae_train_perc = ae_train_perc\n",
        "        \n",
        "        # For CSE-CIC-IDS2018 \n",
        "        if self.split:\n",
        "            # Add two extra features for 2D image inputs \n",
        "            a = np.zeros((len(X),1))\n",
        "            b = np.zeros((len(X),1))\n",
        "            self.X = np.hstack((X,a,b))\n",
        "            self.y = y\n",
        "        else: \n",
        "            self.X_train, self.X_test = X\n",
        "            self.y_train, self.y_test = y \n",
        "            \n",
        "    def preprocess_data(self):\n",
        "        \n",
        "        if self.split:\n",
        "            # Split data into train and test split \n",
        "            X_train, X_test, y_train, y_test = train_test_split(self.X, self.y, test_size=0.3, stratify = self.y)\n",
        "        else:\n",
        "            X_train, X_test, y_train, y_test = self.X_train, self.X_test, self.y_train, self.y_test\n",
        "\n",
        "        # Scale Data \n",
        "        min_max_scaler = MinMaxScaler()\n",
        "        X_train = min_max_scaler.fit_transform(X_train)\n",
        "        X_test = min_max_scaler.transform(X_test)\n",
        "\n",
        "        # Use Auto Encoder to perform dimensionality reduction \n",
        "        if self.ae: \n",
        "            _ , X_val = train_test_split(X_train, test_size=self.ae_train_perc, random_state=42)\n",
        "            \n",
        "            encoder = Sequential()\n",
        "            encoder.add(Dense(self.ae_dim, activation='relu',input_shape=[X_val.shape[1]]))\n",
        "\n",
        "            decoder = Sequential()\n",
        "            decoder.add(Dense(X_val.shape[1], activation='relu', input_shape=[self.ae_dim]))\n",
        "\n",
        "            autoencoder = Sequential([encoder,decoder])\n",
        "            autoencoder.compile(loss='mse',optimizer = 'adam')\n",
        "\n",
        "            early_stop = EarlyStopping(monitor='loss', mode = 'auto', \n",
        "                                       patience = 5 , verbose =0, restore_best_weights=True)\n",
        "\n",
        "            autoencoder.fit(X_val, X_val, epochs=40, batch_size=256,verbose=0, callbacks=[early_stop])\n",
        "\n",
        "            X_train = encoder.predict(X_train)\n",
        "            X_test = encoder.predict(X_test)\n",
        "\n",
        "        # Reshape the data into 3D input arrays which include a time dimension as input for LSTM\n",
        "        X_train = X_train.reshape(len(X_train), 1, X_train.shape[1])\n",
        "        X_test = X_test.reshape(len(X_test), 1, X_test.shape[1]) \n",
        "\n",
        "        return X_train, y_train, X_test, y_test\n",
        "      \n",
        "        \n",
        "    def build_model(self):\n",
        "        # Split data into training and testing set, scale it and encode labels \n",
        "        X_train, y_train, X_test, y_test = self.preprocess_data()\n",
        "        \n",
        "        # Further divide Data into training and validation data\n",
        "        X_train, X_val, y_train, y_val = train_test_split(X_train, y_train, test_size=0.2, random_state=42, stratify= y_train)\n",
        "        \n",
        "        input_dim = X_train.shape[1]\n",
        "        model = Sequential()\n",
        "\n",
        "        model.add(LSTM(64, input_shape = (1,X_train.shape[2]), return_sequences=True, unroll=True))\n",
        "        model.add(BatchNormalization())\n",
        "        model.add(Dropout(0.2))\n",
        "\n",
        "\n",
        "        model.add(LSTM(32,unroll=True))\n",
        "        model.add(BatchNormalization())\n",
        "        model.add(Dropout(0.2))\n",
        "\n",
        "\n",
        "        model.add(Dense(self.num_of_classes, activation ='softmax'))\n",
        "        model.compile(loss='sparse_categorical_crossentropy', optimizer='adam')\n",
        "\n",
        "        early_stop = EarlyStopping(monitor='val_loss', mode = 'auto', \n",
        "                           patience = 5 , verbose =1, restore_best_weights=True)\n",
        "\n",
        "        model.fit(x = X_train, y = y_train, epochs = 100, batch_size = 256, verbose = 0,\n",
        "                  callbacks = [early_stop], validation_data = (X_val,y_val))\n",
        "        \n",
        "        return model, X_test, y_test\n",
        "    \n",
        "    def evaluate_model(self, runs,time=False):\n",
        "        results = pd.DataFrame(columns=[\"acc\",\"prec\",\"rec\",\"f1\",\"far\",\"Train Time\",\"Test Time\"])\n",
        "        reports = []\n",
        "        \n",
        "        self.preprocess_data()\n",
        "        \n",
        "        for i in range(runs):\n",
        "            print(f\"Training Model {i} ...\")\n",
        "            if time:\n",
        "                training_time = timeit(lambda: self.build_model(), number = 1)\n",
        "            else:\n",
        "                training_time= np.nan\n",
        "                \n",
        "            model, X_test, y_test = self.build_model()\n",
        "            print(f\"Evaluating Model {i} ...\")\n",
        "            \n",
        "            if time:\n",
        "                testing_time = timeit(lambda: model.predict(X_test), number = 1)\n",
        "            else:\n",
        "                testing_time=1\n",
        "                \n",
        "            y_pred = np.argmax(model.predict(X_test), axis=-1)\n",
        "            \n",
        "            acc = metrics.accuracy_score(y_test,y_pred)\n",
        "            prec = metrics.precision_score(y_test,y_pred,average='weighted')\n",
        "            rec = metrics.recall_score(y_test,y_pred,average='weighted')\n",
        "            f1 = metrics.f1_score(y_test,y_pred,average='weighted')\n",
        "            \n",
        "            confusion_matrix = metrics.confusion_matrix(y_test,y_pred)\n",
        "            FP = confusion_matrix.sum(axis=0) - np.diag(confusion_matrix)  \n",
        "            FN = confusion_matrix.sum(axis=1) - np.diag(confusion_matrix)\n",
        "            TP = np.diag(confusion_matrix)\n",
        "            TN = confusion_matrix.sum() - (FP + FN + TP)\n",
        "            FAR = FP/(FP+TN)\n",
        "            \n",
        "            model_results = {'acc':acc, 'prec':prec, 'rec':rec, 'f1':f1,'far':FAR.mean(),\n",
        "                             'Train Time':training_time,'Test Time':testing_time}\n",
        "            results = results.append(model_results, ignore_index= True)\n",
        "            print(f\"Model {i} Acc:\", acc)\n",
        "            \n",
        "            # Creation of a classification report which is useful for examining per class metrics\n",
        "            report = pd.DataFrame(metrics.classification_report(y_test,y_pred,output_dict=True)).transpose()\n",
        "            reports.append(report)\n",
        "        \n",
        "        self.acc = results.mean()[0], results.std()[0]\n",
        "        self.prec = results.mean()[1], results.std()[1]\n",
        "        self.rec = results.mean()[2], results.std()[2]\n",
        "        self.f1 = results.mean()[3], results.std()[3]\n",
        "        self.far = results.mean()[4], results.std()[4]\n",
        "        self.train_time = results.mean()[5], results.std()[5]\n",
        "        self.test_time = results.mean()[6], results.std()[6]\n",
        "        self.report = pd.concat(reports).groupby(level=0).mean()"
      ],
      "metadata": {
        "id": "Hr4HrQkRmfN_"
      },
      "execution_count": null,
      "outputs": []
    },
    {
      "cell_type": "code",
      "source": [
        "\n",
        "import numpy as np\n",
        "import pandas as pd \n",
        "import matplotlib.pyplot as plt \n",
        "import seaborn as sns\n",
        "\n",
        "import tensorflow as tf\n",
        "from sklearn.model_selection import train_test_split\n",
        "from sklearn import metrics "
      ],
      "metadata": {
        "id": "K8_fGbkomfLD"
      },
      "execution_count": null,
      "outputs": []
    },
    {
      "cell_type": "markdown",
      "source": [
        "## Creating our baseline evaluation. \n",
        "\n",
        "Based on previous evaluation using standard machine learning results as a comparison for our own results.\n",
        "\n",
        "We would be using the results from SVM(Support Vector Machines) models"
      ],
      "metadata": {
        "id": "LO65BSWTw2xB"
      }
    },
    {
      "cell_type": "code",
      "source": [
        "cic_svm = SVM(cic_X,cic_y,split=True)\n",
        "cic_svm.evaluate(10)"
      ],
      "metadata": {
        "id": "sHHqWscgme7m",
        "colab": {
          "base_uri": "https://localhost:8080/"
        },
        "outputId": "4d2549bc-b02a-4760-b07d-e10477ab8261"
      },
      "execution_count": null,
      "outputs": [
        {
          "output_type": "stream",
          "name": "stdout",
          "text": [
            "Model 0 Acc: 0.9991276688545867\n",
            "Model 1 Acc: 0.9989680960840842\n",
            "Model 2 Acc: 0.9993829852873906\n",
            "Model 3 Acc: 0.9991276688545867\n",
            "Model 4 Acc: 0.9990957543004861\n",
            "Model 5 Acc: 0.9990744779310858\n",
            "Model 6 Acc: 0.9990638397463857\n",
            "Model 7 Acc: 0.9991170306698864\n",
            "Model 8 Acc: 0.9990106488228848\n",
            "Model 9 Acc: 0.99934043254859\n"
          ]
        }
      ]
    },
    {
      "cell_type": "code",
      "source": [
        "# Deep Neural Network results\n",
        "\n",
        "cic_dnn = DNN(X = cic_X, y = cic_y, split = True)\n",
        "cic_dnn.evaluate_model(5,[64,32,16], time=True)"
      ],
      "metadata": {
        "id": "ezWf8HRmme5B",
        "colab": {
          "base_uri": "https://localhost:8080/"
        },
        "outputId": "5dcc0cef-03fc-4ee1-e20c-ea5e5115bec0"
      },
      "execution_count": null,
      "outputs": [
        {
          "output_type": "stream",
          "name": "stdout",
          "text": [
            "Training Model 0 ...\n",
            "Evaluating Model 0 ...\n",
            "2938/2938 [==============================] - 5s 2ms/step\n",
            "2938/2938 [==============================] - 5s 2ms/step\n",
            "Model 0 Acc: 0.9999787236305997\n",
            "Training Model 1 ...\n",
            "Evaluating Model 1 ...\n",
            "2938/2938 [==============================] - 5s 2ms/step\n",
            "2938/2938 [==============================] - 5s 2ms/step\n",
            "Model 1 Acc: 0.9998404272294975\n",
            "Training Model 2 ...\n",
            "Evaluating Model 2 ...\n",
            "2938/2938 [==============================] - 5s 2ms/step\n",
            "2938/2938 [==============================] - 5s 2ms/step\n",
            "Model 2 Acc: 0.9999574472611994\n",
            "Training Model 3 ...\n",
            "Evaluating Model 3 ...\n",
            "2938/2938 [==============================] - 5s 2ms/step\n",
            "2938/2938 [==============================] - 5s 2ms/step\n",
            "Model 3 Acc: 0.9999255327070988\n",
            "Training Model 4 ...\n",
            "Evaluating Model 4 ...\n",
            "2938/2938 [==============================] - 5s 2ms/step\n",
            "2938/2938 [==============================] - 5s 2ms/step\n",
            "Model 4 Acc: 0.9999680854458995\n"
          ]
        }
      ]
    },
    {
      "cell_type": "code",
      "source": [
        "# Convolutional Neural Network results\n",
        "cic_cnn = CNN(X = cic_X, y = cic_y, split=True, image_dim=9) # 81 Features = 9x9 Images\n",
        "cic_cnn.display_class_image({0:'Benign', 1:'Bruteforce Attack'})"
      ],
      "metadata": {
        "id": "cQzou8krme2K",
        "colab": {
          "base_uri": "https://localhost:8080/",
          "height": 373
        },
        "outputId": "bc86a2c2-c4dc-4308-e34f-c8da62e0159f"
      },
      "execution_count": null,
      "outputs": [
        {
          "output_type": "display_data",
          "data": {
            "text/plain": [
              "<Figure size 1080x432 with 2 Axes>"
            ],
            "image/png": "[encoded data removed]"
          },
          "metadata": {
            "needs_background": "light"
          }
        }
      ]
    },
    {
      "cell_type": "code",
      "source": [
        "cic_cnn.evaluate_model(5,time=True)"
      ],
      "metadata": {
        "id": "fBsx5veUmezx",
        "colab": {
          "base_uri": "https://localhost:8080/"
        },
        "outputId": "b9022d46-782f-4363-f867-85b59bd2c1f0"
      },
      "execution_count": null,
      "outputs": [
        {
          "output_type": "stream",
          "name": "stdout",
          "text": [
            "Training Model 0 ...\n",
            "Evaluating Model 0 ...\n",
            "2938/2938 [==============================] - 5s 2ms/step\n",
            "2938/2938 [==============================] - 5s 2ms/step\n",
            "Model 0 Acc: 0.9999680854458995\n",
            "Training Model 1 ...\n",
            "Evaluating Model 1 ...\n",
            "2938/2938 [==============================] - 5s 2ms/step\n",
            "2938/2938 [==============================] - 5s 2ms/step\n",
            "Model 1 Acc: 0.9999787236305997\n",
            "Training Model 2 ...\n",
            "Evaluating Model 2 ...\n",
            "2938/2938 [==============================] - 5s 2ms/step\n",
            "2938/2938 [==============================] - 5s 2ms/step\n",
            "Model 2 Acc: 0.9999680854458995\n",
            "Training Model 3 ...\n",
            "Evaluating Model 3 ...\n",
            "2938/2938 [==============================] - 5s 2ms/step\n",
            "2938/2938 [==============================] - 5s 2ms/step\n",
            "Model 3 Acc: 0.9999468090764991\n",
            "Training Model 4 ...\n",
            "Evaluating Model 4 ...\n",
            "2938/2938 [==============================] - 5s 2ms/step\n",
            "2938/2938 [==============================] - 5s 2ms/step\n",
            "Model 4 Acc: 0.9999148945223987\n"
          ]
        }
      ]
    },
    {
      "cell_type": "code",
      "source": [
        "# LSTM results\n",
        "cic_lstm = RNN_LSTM(X=cic_X, y = cic_y, split = True, num_of_classes=7)"
      ],
      "metadata": {
        "id": "TB1LwpPcmexi"
      },
      "execution_count": null,
      "outputs": []
    },
    {
      "cell_type": "code",
      "source": [
        "cic_lstm.evaluate_model(5, time=True)"
      ],
      "metadata": {
        "id": "onIZto1SmevA",
        "colab": {
          "base_uri": "https://localhost:8080/"
        },
        "outputId": "fdcb0b4f-b40f-431d-9a7b-01ddc84acc5a"
      },
      "execution_count": null,
      "outputs": [
        {
          "output_type": "stream",
          "name": "stdout",
          "text": [
            "Training Model 0 ...\n"
          ]
        },
        {
          "output_type": "stream",
          "name": "stderr",
          "text": [
            "WARNING:tensorflow:Layer lstm will not use cuDNN kernels since it doesn't meet the criteria. It will use a generic GPU kernel as fallback when running on GPU.\n",
            "WARNING:tensorflow:Layer lstm_1 will not use cuDNN kernels since it doesn't meet the criteria. It will use a generic GPU kernel as fallback when running on GPU.\n"
          ]
        },
        {
          "output_type": "stream",
          "name": "stdout",
          "text": [
            "Restoring model weights from the end of the best epoch: 11.\n",
            "Epoch 16: early stopping\n"
          ]
        },
        {
          "output_type": "stream",
          "name": "stderr",
          "text": [
            "WARNING:tensorflow:Layer lstm_2 will not use cuDNN kernels since it doesn't meet the criteria. It will use a generic GPU kernel as fallback when running on GPU.\n",
            "WARNING:tensorflow:Layer lstm_3 will not use cuDNN kernels since it doesn't meet the criteria. It will use a generic GPU kernel as fallback when running on GPU.\n"
          ]
        },
        {
          "output_type": "stream",
          "name": "stdout",
          "text": [
            "Restoring model weights from the end of the best epoch: 12.\n",
            "Epoch 17: early stopping\n",
            "Evaluating Model 0 ...\n",
            "2938/2938 [==============================] - 5s 2ms/step\n",
            "2938/2938 [==============================] - 5s 2ms/step\n",
            "Model 0 Acc: 0.9999680854458995\n",
            "Training Model 1 ...\n"
          ]
        },
        {
          "output_type": "stream",
          "name": "stderr",
          "text": [
            "WARNING:tensorflow:Layer lstm_4 will not use cuDNN kernels since it doesn't meet the criteria. It will use a generic GPU kernel as fallback when running on GPU.\n",
            "WARNING:tensorflow:Layer lstm_5 will not use cuDNN kernels since it doesn't meet the criteria. It will use a generic GPU kernel as fallback when running on GPU.\n"
          ]
        },
        {
          "output_type": "stream",
          "name": "stdout",
          "text": [
            "Restoring model weights from the end of the best epoch: 8.\n",
            "Epoch 13: early stopping\n"
          ]
        },
        {
          "output_type": "stream",
          "name": "stderr",
          "text": [
            "WARNING:tensorflow:Layer lstm_6 will not use cuDNN kernels since it doesn't meet the criteria. It will use a generic GPU kernel as fallback when running on GPU.\n",
            "WARNING:tensorflow:Layer lstm_7 will not use cuDNN kernels since it doesn't meet the criteria. It will use a generic GPU kernel as fallback when running on GPU.\n"
          ]
        },
        {
          "output_type": "stream",
          "name": "stdout",
          "text": [
            "Restoring model weights from the end of the best epoch: 6.\n",
            "Epoch 11: early stopping\n",
            "Evaluating Model 1 ...\n",
            "2938/2938 [==============================] - 5s 2ms/step\n",
            "2938/2938 [==============================] - 6s 2ms/step\n",
            "Model 1 Acc: 0.9998723417835981\n",
            "Training Model 2 ...\n"
          ]
        },
        {
          "output_type": "stream",
          "name": "stderr",
          "text": [
            "WARNING:tensorflow:Layer lstm_8 will not use cuDNN kernels since it doesn't meet the criteria. It will use a generic GPU kernel as fallback when running on GPU.\n",
            "WARNING:tensorflow:Layer lstm_9 will not use cuDNN kernels since it doesn't meet the criteria. It will use a generic GPU kernel as fallback when running on GPU.\n"
          ]
        },
        {
          "output_type": "stream",
          "name": "stdout",
          "text": [
            "Restoring model weights from the end of the best epoch: 25.\n",
            "Epoch 30: early stopping\n"
          ]
        },
        {
          "output_type": "stream",
          "name": "stderr",
          "text": [
            "WARNING:tensorflow:Layer lstm_10 will not use cuDNN kernels since it doesn't meet the criteria. It will use a generic GPU kernel as fallback when running on GPU.\n",
            "WARNING:tensorflow:Layer lstm_11 will not use cuDNN kernels since it doesn't meet the criteria. It will use a generic GPU kernel as fallback when running on GPU.\n"
          ]
        },
        {
          "output_type": "stream",
          "name": "stdout",
          "text": [
            "Restoring model weights from the end of the best epoch: 7.\n",
            "Epoch 12: early stopping\n",
            "Evaluating Model 2 ...\n",
            "2938/2938 [==============================] - 5s 2ms/step\n",
            "2938/2938 [==============================] - 6s 2ms/step\n",
            "Model 2 Acc: 0.9999042563376985\n",
            "Training Model 3 ...\n"
          ]
        },
        {
          "output_type": "stream",
          "name": "stderr",
          "text": [
            "WARNING:tensorflow:Layer lstm_12 will not use cuDNN kernels since it doesn't meet the criteria. It will use a generic GPU kernel as fallback when running on GPU.\n",
            "WARNING:tensorflow:Layer lstm_13 will not use cuDNN kernels since it doesn't meet the criteria. It will use a generic GPU kernel as fallback when running on GPU.\n"
          ]
        },
        {
          "output_type": "stream",
          "name": "stdout",
          "text": [
            "Restoring model weights from the end of the best epoch: 10.\n",
            "Epoch 15: early stopping\n"
          ]
        },
        {
          "output_type": "stream",
          "name": "stderr",
          "text": [
            "WARNING:tensorflow:Layer lstm_14 will not use cuDNN kernels since it doesn't meet the criteria. It will use a generic GPU kernel as fallback when running on GPU.\n",
            "WARNING:tensorflow:Layer lstm_15 will not use cuDNN kernels since it doesn't meet the criteria. It will use a generic GPU kernel as fallback when running on GPU.\n"
          ]
        },
        {
          "output_type": "stream",
          "name": "stdout",
          "text": [
            "Restoring model weights from the end of the best epoch: 19.\n",
            "Epoch 24: early stopping\n",
            "Evaluating Model 3 ...\n",
            "2938/2938 [==============================] - 6s 2ms/step\n",
            "2938/2938 [==============================] - 5s 2ms/step\n",
            "Model 3 Acc: 0.9999468090764991\n",
            "Training Model 4 ...\n"
          ]
        },
        {
          "output_type": "stream",
          "name": "stderr",
          "text": [
            "WARNING:tensorflow:Layer lstm_16 will not use cuDNN kernels since it doesn't meet the criteria. It will use a generic GPU kernel as fallback when running on GPU.\n",
            "WARNING:tensorflow:Layer lstm_17 will not use cuDNN kernels since it doesn't meet the criteria. It will use a generic GPU kernel as fallback when running on GPU.\n"
          ]
        },
        {
          "output_type": "stream",
          "name": "stdout",
          "text": [
            "Restoring model weights from the end of the best epoch: 10.\n",
            "Epoch 15: early stopping\n"
          ]
        },
        {
          "output_type": "stream",
          "name": "stderr",
          "text": [
            "WARNING:tensorflow:Layer lstm_18 will not use cuDNN kernels since it doesn't meet the criteria. It will use a generic GPU kernel as fallback when running on GPU.\n",
            "WARNING:tensorflow:Layer lstm_19 will not use cuDNN kernels since it doesn't meet the criteria. It will use a generic GPU kernel as fallback when running on GPU.\n"
          ]
        },
        {
          "output_type": "stream",
          "name": "stdout",
          "text": [
            "Restoring model weights from the end of the best epoch: 16.\n",
            "Epoch 21: early stopping\n",
            "Evaluating Model 4 ...\n",
            "2938/2938 [==============================] - 5s 2ms/step\n",
            "2938/2938 [==============================] - 5s 2ms/step\n",
            "Model 4 Acc: 0.9999680854458995\n"
          ]
        }
      ]
    },
    {
      "cell_type": "markdown",
      "source": [
        "## Model Results Comparison\n"
      ],
      "metadata": {
        "id": "-ukM7WtOy27F"
      }
    },
    {
      "cell_type": "code",
      "source": [
        "def autolabel(rects, xpos='center', perc=True):\n",
        "    ha = {'center': 'center', 'right': 'left', 'left': 'right'}\n",
        "    offset = {'center': 0, 'right': 1, 'left': -1}\n",
        "\n",
        "    for rect in rects:\n",
        "        height = rect.get_height()\n",
        "        if perc:\n",
        "            ax.annotate('{}%'.format(height),\n",
        "                        xy=(rect.get_x() + rect.get_width() / 2, height),\n",
        "                        xytext=(offset[xpos]*3, 1),  # use 3 points offset\n",
        "                        textcoords=\"offset points\",  # in both directions\n",
        "                        ha=ha[xpos], va='bottom',\n",
        "                        fontsize = 11)\n",
        "        else:\n",
        "            ax.annotate('{}'.format(height),\n",
        "                        xy=(rect.get_x() + rect.get_width() / 2, height),\n",
        "                        xytext=(offset[xpos]*3, 1),  # use 3 points offset\n",
        "                        textcoords=\"offset points\",  # in both directions\n",
        "                        ha=ha[xpos], va='bottom',\n",
        "                        fontsize = 11)"
      ],
      "metadata": {
        "id": "eFICDzWdmesU"
      },
      "execution_count": null,
      "outputs": []
    },
    {
      "cell_type": "code",
      "source": [
        "cic_acc_means, cic_acc_std = (round(cic_svm.acc[0]*100,3),round(cic_dnn.acc[0]*100,3), round(cic_cnn.acc[0]*100,3), round(cic_lstm.acc[0]*100,3)), \\\n",
        "                     (cic_svm.acc[1]*100,cic_dnn.acc[1]*100, cic_cnn.acc[1]*100, cic_lstm.acc[1]*100)\n",
        "    \n",
        "cic_f1_means, cic_f1_std = (round(cic_svm.f1[0]*100,3), round(cic_dnn.f1[0]*100,3), round(cic_cnn.f1[0]*100,3), round(cic_lstm.f1[0]*100,3)), \\\n",
        "                         (cic_svm.f1[1]*100, cic_dnn.f1[1]*100, cic_cnn.f1[1]*100, cic_lstm.f1[1]*100)\n",
        "    \n",
        "ind = np.arange(len(cic_acc_means))  # the x locations for the groups\n",
        "width = 0.35  # the width of the bars\n",
        "\n",
        "fig, ax = plt.subplots(figsize=(12,6))\n",
        "rects1 = ax.bar(ind - width/2, cic_acc_means, width, yerr=cic_acc_std,\n",
        "                label='Accuracy', color='grey')\n",
        "rects2 = ax.bar(ind + width/2, cic_f1_means, width, yerr=cic_f1_std,\n",
        "                label='F1 Score')\n",
        "\n",
        "# Add some text for labels, title and custom x-axis tick labels, etc.\n",
        "ax.set_ylabel('Scores')\n",
        "ax.set_title('Model Performance on Undersampled CSE-CIC-IDS2018')\n",
        "ax.set_xticks(ind)\n",
        "ax.set_xticklabels(('SVM','DNN', 'CNN', 'LSTM'))\n",
        "ax.legend()\n",
        "\n",
        "autolabel(rects1, \"left\")\n",
        "autolabel(rects2, \"right\")\n",
        "\n",
        "fig.tight_layout()\n",
        "plt.ylim(70,90)\n",
        "plt.legend(bbox_to_anchor=(1,1))\n",
        "plt.savefig(\"acc_f1_cic.pdf\")\n",
        "plt.show()"
      ],
      "metadata": {
        "id": "vFB4_7ZdmenO",
        "colab": {
          "base_uri": "https://localhost:8080/",
          "height": 625
        },
        "outputId": "e7170f1c-cb84-4bd6-f57a-466c1756c755"
      },
      "execution_count": null,
      "outputs": [
        {
          "output_type": "display_data",
          "data": {
            "text/plain": [
              "<Figure size 864x432 with 1 Axes>"
            ],
            "image/png": "[encoded data removed]"
          },
          "metadata": {
            "needs_background": "light"
          }
        }
      ]
    },
    {
      "cell_type": "code",
      "source": [
        "cic_far_means, cic_far_std = (round(cic_svm.far[0]*100,3),round(cic_dnn.far[0]*100,3), round(cic_cnn.far[0]*100,3), round(cic_lstm.far[0]*100,3)), \\\n",
        "                     (cic_svm.far[1]*100, cic_dnn.far[1]*100, cic_cnn.far[1]*100, cic_lstm.far[1]*100)\n",
        "\n",
        "    \n",
        "ind = np.arange(len(cic_far_means))  # the x locations for the groups\n",
        "width = 0.35  # the width of the bars\n",
        "\n",
        "fig, ax = plt.subplots(figsize=(12,6))\n",
        "rects1 = ax.bar(ind, cic_far_means, width, yerr=cic_far_std,\n",
        "                label='False Alarm Rate', color='gold')\n",
        "\n",
        "# Add some text for labels, title and custom x-axis tick labels, etc.\n",
        "ax.set_ylabel('False Alarm Rate')\n",
        "ax.set_title('Model Performance on Undersampled CSE-CIC-IDS2018')\n",
        "ax.set_xticks(ind)\n",
        "ax.set_xticklabels(('SVM','DNN', 'CNN', 'LSTM'))\n",
        "ax.legend()\n",
        "\n",
        "autolabel(rects1, \"left\")\n",
        "fig.tight_layout()\n",
        "\n",
        "#plt.ylim(70,90)\n",
        "plt.legend(bbox_to_anchor=(1,1))\n",
        "plt.savefig(\"far_cic.pdf\")\n",
        "plt.show()"
      ],
      "metadata": {
        "id": "kfFwEWB_medt",
        "colab": {
          "base_uri": "https://localhost:8080/",
          "height": 441
        },
        "outputId": "f3a7d818-f862-4e07-fcde-338bac131b91"
      },
      "execution_count": null,
      "outputs": [
        {
          "output_type": "display_data",
          "data": {
            "text/plain": [
              "<Figure size 864x432 with 1 Axes>"
            ],
            "image/png": "[encoded data removed]"
          },
          "metadata": {
            "needs_background": "light"
          }
        }
      ]
    },
    {
      "cell_type": "code",
      "source": [
        "train_time_means, train_time_std = (round(cic_dnn.train_time[0],5), round(cic_cnn.train_time[0],5), round(cic_lstm.train_time[0],5)), \\\n",
        "                     (cic_dnn.train_time[1], cic_cnn.train_time[1], cic_lstm.train_time[1])\n",
        "\n",
        "    \n",
        "ind = np.arange(len(train_time_means))  # the x locations for the groups\n",
        "width = 0.35  # the width of the bars\n",
        "\n",
        "fig, ax = plt.subplots(figsize=(8,6))\n",
        "rects1 = ax.bar(ind, train_time_means, width, yerr=train_time_std,\n",
        "                label='Training Time', color='lightblue')\n",
        "\n",
        "# Add some text for labels, title and custom x-axis tick labels, etc.\n",
        "ax.set_ylabel('Training Time (seconds)')\n",
        "ax.set_title('Model Performance on Undersampled CSE-CIC-IDS2018')\n",
        "ax.set_xticks(ind)\n",
        "ax.set_xticklabels(('DNN', 'CNN', 'LSTM'))\n",
        "ax.legend()\n",
        "\n",
        "autolabel(rects1, \"left\",perc=False)\n",
        "fig.tight_layout()\n",
        "\n",
        "#plt.ylim(70,90)\n",
        "plt.legend(loc=2)\n",
        "#plt.xlabel(\"Model\")\n",
        "plt.savefig(\"train_time_cic.pdf\")\n",
        "\n",
        "plt.show()"
      ],
      "metadata": {
        "colab": {
          "base_uri": "https://localhost:8080/",
          "height": 441
        },
        "id": "iY9RnbgDzKce",
        "outputId": "0f9edcc7-fc12-4186-e1dc-2d5d00d04e30"
      },
      "execution_count": null,
      "outputs": [
        {
          "output_type": "display_data",
          "data": {
            "text/plain": [
              "<Figure size 576x432 with 1 Axes>"
            ],
            "image/png": "[encoded data removed]"
          },
          "metadata": {
            "needs_background": "light"
          }
        }
      ]
    },
    {
      "cell_type": "code",
      "source": [
        "test_time_means, test_time_std = (round(cic_dnn.test_time[0],5), round(cic_cnn.test_time[0],5), round(cic_lstm.test_time[0],5)), \\\n",
        "                     (cic_dnn.test_time[1], cic_cnn.test_time[1], cic_lstm.test_time[1])\n",
        "\n",
        "    \n",
        "ind = np.arange(len(test_time_means))  # the x locations for the groups\n",
        "width = 0.35  # the width of the bars\n",
        "\n",
        "fig, ax = plt.subplots(figsize=(8,6))\n",
        "rects1 = ax.bar(ind, test_time_means, width, yerr=test_time_std,\n",
        "                label='Inference Time', color='maroon')\n",
        "\n",
        "# Add some text for labels, title and custom x-axis tick labels, etc.\n",
        "ax.set_ylabel('Inference Time (seconds)')\n",
        "ax.set_title('Model Performance on Undersampled CSE-CIC-IDS2018')\n",
        "ax.set_xticks(ind)\n",
        "ax.set_xticklabels(('DNN', 'CNN', 'LSTM'))\n",
        "ax.legend()\n",
        "\n",
        "autolabel(rects1, \"left\",perc=False)\n",
        "fig.tight_layout()\n",
        "\n",
        "#plt.ylim(70,90)\n",
        "plt.legend(loc=2)\n",
        "#plt.xlabel(\"Model\")\n",
        "plt.savefig(\"test_time_cic.pdf\")\n",
        "\n",
        "plt.show()"
      ],
      "metadata": {
        "colab": {
          "base_uri": "https://localhost:8080/",
          "height": 441
        },
        "id": "Elsc4H6vzQx-",
        "outputId": "dc77996d-1a84-4333-e946-a45d16a94bae"
      },
      "execution_count": null,
      "outputs": [
        {
          "output_type": "display_data",
          "data": {
            "text/plain": [
              "<Figure size 576x432 with 1 Axes>"
            ],
            "image/png": "[encoded data removed]"
          },
          "metadata": {
            "needs_background": "light"
          }
        }
      ]
    },
    {
      "cell_type": "code",
      "source": [],
      "metadata": {
        "id": "ZzobaTjczQXh"
      },
      "execution_count": null,
      "outputs": []
    },
    {
      "cell_type": "code",
      "source": [],
      "metadata": {
        "id": "iYgYahiAzQUp"
      },
      "execution_count": null,
      "outputs": []
    },
    {
      "cell_type": "code",
      "source": [],
      "metadata": {
        "id": "W2p0W_FBzQR1"
      },
      "execution_count": null,
      "outputs": []
    }
  ]
}